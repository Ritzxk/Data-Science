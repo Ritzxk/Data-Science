{
 "cells": [
  {
   "cell_type": "markdown",
   "id": "0695975f",
   "metadata": {},
   "source": [
    "###  3. Search in rotated sorted array"
   ]
  },
  {
   "cell_type": "code",
   "execution_count": 15,
   "id": "670d524e",
   "metadata": {},
   "outputs": [
    {
     "data": {
      "text/plain": [
       "1"
      ]
     },
     "execution_count": 15,
     "metadata": {},
     "output_type": "execute_result"
    }
   ],
   "source": [
    "# linear search TC: O(n)\n",
    "arr = [5,6,7,8,1,2,3,4]\n",
    "target = 1\n",
    "def search(arr, target):\n",
    "    for i in range(len(arr)):\n",
    "        if arr[i]==target:\n",
    "            return i\n",
    "    return \"not found\"\n",
    "search(arr, 6)"
   ]
  },
  {
   "cell_type": "code",
   "execution_count": 16,
   "id": "a0080bf3",
   "metadata": {},
   "outputs": [],
   "source": [
    "# BS TC: O(log(n))\n",
    "\n"
   ]
  },
  {
   "cell_type": "code",
   "execution_count": 17,
   "id": "9b4f384f",
   "metadata": {},
   "outputs": [],
   "source": [
    "l = [2,1,7,4,9,5]\n",
    "l.sort()"
   ]
  },
  {
   "cell_type": "code",
   "execution_count": 18,
   "id": "c78d46e0",
   "metadata": {},
   "outputs": [
    {
     "data": {
      "text/plain": [
       "[1, 2, 4, 5, 7, 9]"
      ]
     },
     "execution_count": 18,
     "metadata": {},
     "output_type": "execute_result"
    }
   ],
   "source": [
    "l"
   ]
  },
  {
   "cell_type": "code",
   "execution_count": 19,
   "id": "7cd82cf2",
   "metadata": {},
   "outputs": [
    {
     "data": {
      "text/plain": [
       "[1, 2, 4, 5, 7, 9]"
      ]
     },
     "execution_count": 19,
     "metadata": {},
     "output_type": "execute_result"
    }
   ],
   "source": [
    "sorted(l)"
   ]
  },
  {
   "cell_type": "code",
   "execution_count": 23,
   "id": "63758eb8",
   "metadata": {},
   "outputs": [
    {
     "name": "stdout",
     "output_type": "stream",
     "text": [
      "[0, 1, 3, 4, 5, 8, 9]\n"
     ]
    }
   ],
   "source": [
    "l2 = [3,5,1,8,4,0,9]\n",
    "print(sorted(l2))"
   ]
  },
  {
   "cell_type": "code",
   "execution_count": 24,
   "id": "0c7d0d66",
   "metadata": {},
   "outputs": [
    {
     "data": {
      "text/plain": [
       "[3, 5, 1, 8, 4, 0, 9]"
      ]
     },
     "execution_count": 24,
     "metadata": {},
     "output_type": "execute_result"
    }
   ],
   "source": [
    "l2"
   ]
  },
  {
   "cell_type": "code",
   "execution_count": 26,
   "id": "932b3121",
   "metadata": {},
   "outputs": [],
   "source": [
    "l2.sort()"
   ]
  },
  {
   "cell_type": "code",
   "execution_count": 27,
   "id": "0ee102c1",
   "metadata": {},
   "outputs": [
    {
     "data": {
      "text/plain": [
       "[0, 1, 3, 4, 5, 8, 9]"
      ]
     },
     "execution_count": 27,
     "metadata": {},
     "output_type": "execute_result"
    }
   ],
   "source": [
    "l2"
   ]
  },
  {
   "cell_type": "code",
   "execution_count": 31,
   "id": "b13291d0",
   "metadata": {},
   "outputs": [
    {
     "name": "stdout",
     "output_type": "stream",
     "text": [
      "3 8\n"
     ]
    }
   ],
   "source": [
    "arr = [2,4,6,8,8,8,11,13,8]\n",
    "first = -1\n",
    "last = -1\n",
    "x = 8\n",
    "for i in range(len(arr)):\n",
    "    if arr[i]  == x:\n",
    "        if first == -1:\n",
    "            first = i\n",
    "        else:\n",
    "            last = i\n",
    "print(first, last)"
   ]
  },
  {
   "cell_type": "code",
   "execution_count": 44,
   "id": "177f4778",
   "metadata": {},
   "outputs": [
    {
     "name": "stdout",
     "output_type": "stream",
     "text": [
      "3 8\n"
     ]
    }
   ],
   "source": [
    "def search(arr, x):\n",
    "    first = -1\n",
    "    last=-1\n",
    "    for i in range(len(arr)):\n",
    "        if arr[i] == x:\n",
    "            if first == -1:\n",
    "                first = i\n",
    "            else:\n",
    "                last = i\n",
    "    return '{} {}'.format(first,last)\n",
    "\n",
    "print(search(arr,8))"
   ]
  },
  {
   "cell_type": "code",
   "execution_count": 1,
   "id": "579720e5",
   "metadata": {},
   "outputs": [
    {
     "ename": "NameError",
     "evalue": "name 'List' is not defined",
     "output_type": "error",
     "traceback": [
      "\u001b[1;31m---------------------------------------------------------------------------\u001b[0m",
      "\u001b[1;31mNameError\u001b[0m                                 Traceback (most recent call last)",
      "Cell \u001b[1;32mIn[1], line 1\u001b[0m\n\u001b[1;32m----> 1\u001b[0m \u001b[38;5;28;01mclass\u001b[39;00m \u001b[38;5;21;01mSolution\u001b[39;00m:\n\u001b[0;32m      2\u001b[0m     \u001b[38;5;28;01mdef\u001b[39;00m \u001b[38;5;21mfirst_pos\u001b[39m(nums,target):\n\u001b[0;32m      3\u001b[0m         low \u001b[38;5;241m=\u001b[39m \u001b[38;5;241m0\u001b[39m\n",
      "Cell \u001b[1;32mIn[1], line 28\u001b[0m, in \u001b[0;36mSolution\u001b[1;34m()\u001b[0m\n\u001b[0;32m     24\u001b[0m             low \u001b[38;5;241m=\u001b[39m mid \u001b[38;5;241m+\u001b[39m \u001b[38;5;241m1\u001b[39m\n\u001b[0;32m     26\u001b[0m     \u001b[38;5;28;01mreturn\u001b[39;00m last\n\u001b[1;32m---> 28\u001b[0m \u001b[38;5;28;01mdef\u001b[39;00m \u001b[38;5;21msearchRange\u001b[39m(\u001b[38;5;28mself\u001b[39m, nums: \u001b[43mList\u001b[49m[\u001b[38;5;28mint\u001b[39m], target: \u001b[38;5;28mint\u001b[39m) \u001b[38;5;241m-\u001b[39m\u001b[38;5;241m>\u001b[39m List[\u001b[38;5;28mint\u001b[39m]:\n\u001b[0;32m     29\u001b[0m     first \u001b[38;5;241m=\u001b[39m first_pos(nums,target)\n\u001b[0;32m     30\u001b[0m     \u001b[38;5;28;01mif\u001b[39;00m first \u001b[38;5;241m==\u001b[39m \u001b[38;5;241m-\u001b[39m\u001b[38;5;241m1\u001b[39m:\n",
      "\u001b[1;31mNameError\u001b[0m: name 'List' is not defined"
     ]
    }
   ],
   "source": [
    "\n",
    "    def first_pos(nums,target):\n",
    "        low = 0\n",
    "        high = len(nums) - 1\n",
    "        first = -1\n",
    "        while low <= high:\n",
    "            mid = (high + low)//2\n",
    "            if nums[mid] >= target:\n",
    "                first = mid\n",
    "                high = mid - 1\n",
    "            else:\n",
    "                low = mid - 1\n",
    "        return first\n",
    "\n",
    "    def last_pos(nums, target):\n",
    "        low = 0\n",
    "        high = len(nums) - 1\n",
    "        last = -1\n",
    "        while low <= high:\n",
    "            if nums[mid] > target:\n",
    "                last = mid\n",
    "                high = mid - 1\n",
    "            else:\n",
    "                low = mid + 1\n",
    "        \n",
    "        return last\n",
    "\n",
    "    def searchRange(self, nums: List[int], target: int) -> List[int]:\n",
    "        first = first_pos(nums,target)\n",
    "        if first == -1:\n",
    "            return (-1,-1)\n",
    "        last = last_pos(nums, target)\n",
    "        return (first, last+1)"
   ]
  },
  {
   "cell_type": "code",
   "execution_count": null,
   "id": "d72eb788",
   "metadata": {},
   "outputs": [],
   "source": []
  }
 ],
 "metadata": {
  "kernelspec": {
   "display_name": "Python 3 (ipykernel)",
   "language": "python",
   "name": "python3"
  },
  "language_info": {
   "codemirror_mode": {
    "name": "ipython",
    "version": 3
   },
   "file_extension": ".py",
   "mimetype": "text/x-python",
   "name": "python",
   "nbconvert_exporter": "python",
   "pygments_lexer": "ipython3",
   "version": "3.10.9"
  }
 },
 "nbformat": 4,
 "nbformat_minor": 5
}
