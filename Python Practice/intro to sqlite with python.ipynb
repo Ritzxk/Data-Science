{
 "cells": [
  {
   "cell_type": "code",
   "execution_count": 1,
   "id": "e45ad53f",
   "metadata": {},
   "outputs": [],
   "source": [
    "import sqlite3"
   ]
  },
  {
   "cell_type": "markdown",
   "id": "79bb9009",
   "metadata": {},
   "source": [
    "### create connection, table and add data"
   ]
  },
  {
   "cell_type": "code",
   "execution_count": 2,
   "id": "f82c2a3a",
   "metadata": {},
   "outputs": [],
   "source": [
    "# create connection(db)\n",
    "conn = sqlite3.connect(\"example1.db\")"
   ]
  },
  {
   "cell_type": "code",
   "execution_count": 4,
   "id": "eefb9805",
   "metadata": {},
   "outputs": [],
   "source": [
    "# create cursor --> it allows to execute queries in a database\n",
    "cur = conn.cursor()"
   ]
  },
  {
   "cell_type": "code",
   "execution_count": 5,
   "id": "9e90f9f7",
   "metadata": {},
   "outputs": [
    {
     "data": {
      "text/plain": [
       "<sqlite3.Cursor at 0x1c017a4cf40>"
      ]
     },
     "execution_count": 5,
     "metadata": {},
     "output_type": "execute_result"
    }
   ],
   "source": [
    "# create table\n",
    "cur.execute(\"create table customers (f_name text not null, l_name text not null, salary real)\")"
   ]
  },
  {
   "cell_type": "code",
   "execution_count": 6,
   "id": "a51e3344",
   "metadata": {},
   "outputs": [
    {
     "data": {
      "text/plain": [
       "<sqlite3.Cursor at 0x1c017a4cf40>"
      ]
     },
     "execution_count": 6,
     "metadata": {},
     "output_type": "execute_result"
    }
   ],
   "source": [
    "# insert values into table\n",
    "cur.execute(\"insert into customers values('Ritesh', 'Kumar', 50000),('Priya','Maurya', 45000)\")"
   ]
  },
  {
   "cell_type": "code",
   "execution_count": 7,
   "id": "da4dd6d4",
   "metadata": {},
   "outputs": [],
   "source": [
    "# save result\n",
    "conn.commit()"
   ]
  },
  {
   "cell_type": "markdown",
   "id": "dde833f1",
   "metadata": {},
   "source": [
    "### connect to existing database"
   ]
  },
  {
   "cell_type": "code",
   "execution_count": 2,
   "id": "5ce4ac5d",
   "metadata": {},
   "outputs": [
    {
     "data": {
      "text/plain": [
       "'Bihar is a state in eastern India. It is the third largest state by population, the 12th largest by area, and the 14th largest by GDP in 2021. Bihar borders Uttar Pradesh to its west, Nepal to the north, the northern part of West Bengal to the east, and with Jharkhand to the south. The Bihar plain is split by the river Ganges, which flows from west to east.\\n\\nBihar is a land of rich history and culture. It was once the seat of the ancient Magadha Empire, which was one of the most powerful empires in the world. Bihar is also home to many important religious sites, including the Mahabodhi Temple in Bodhgaya, where the Buddha attained enlightenment.\\n\\nSome of the most popular tourist destinations in Bihar include:\\n\\n* **Bodhgaya:** This is the place where the Buddha attained enlightenment under the Bodhi Tree. The Mahabodhi Temple is a UNESCO World Heritage Site.\\n[Image of Bodhgaya tourist destination in Bihar]\\n* **Rajgir:** This ancient city was the capital of the Magadha Empire. It is home to many important Buddhist and Hindu sites, including the Gridhrakuta Hill, where the Buddha gave many of his sermons.\\n[Image of Rajgir tourist destination in Bihar]\\n* **Nalanda:** This was once a great university, founded in the 5th century AD. It was one of the most important centers of learning in the world, and attracted students from all over Asia.\\n[Image of Nalanda tourist destination in Bihar]\\n* **Patna:** The capital of Bihar, Patna is a bustling city with a rich history. It is home to many important historical sites, including the Patna Museum, the Golghar, and the Patna Fort.\\n[Image of Patna tourist destination in Bihar]\\n* **Gaya:** This is a holy city for Hindus, and is home to the Vishnupad Temple, which is said to be the footprint of Vishnu.\\n[Image of Gaya tourist destination in Bihar]\\n\\nBihar is also home to a number of beautiful natural attractions, including:\\n\\n* **The Valmiki National Park:** This is a wildlife sanctuary in the foothills of the Himalayas. It is home to a variety of animals, including tigers, leopards, elephants, and rhinoceroses.\\n[Image of Valmiki National Park tourist destination in Bihar]\\n* **The Madhubani district:** This district is known for its beautiful Madhubani paintings, which are made by using a unique style of brushwork.\\n[Image of Madhubani district tourist destination in Bihar]\\n* **The hills of Kaimur:** These hills are home to a number of temples and monasteries, and offer stunning views of the surrounding countryside.\\n[Image of Kaimur hills tourist destination in Bihar]\\n\\nBihar is a fascinating state with a lot to offer visitors. Whether you are interested in history, culture, or natural beauty, you are sure to find something to enjoy in Bihar.'"
      ]
     },
     "execution_count": 2,
     "metadata": {},
     "output_type": "execute_result"
    }
   ],
   "source": [
    "from bardapi import Bard\n",
    "import os\n",
    "os.environ['_BARD_API_KEY']=\"YAhQtSEbrxv1nkngiQfnEJCifpBL5R9hS9oin04VFeDF1pZqkMCB8cPdMnfAtk94fMR2Sg.\"\n",
    "\n",
    "bard = Bard(timeout=30) # Set timeout in seconds\n",
    "bard.get_answer(\"bihar\")['content']"
   ]
  },
  {
   "cell_type": "code",
   "execution_count": null,
   "id": "5ba030c7",
   "metadata": {},
   "outputs": [],
   "source": []
  }
 ],
 "metadata": {
  "kernelspec": {
   "display_name": "Python 3 (ipykernel)",
   "language": "python",
   "name": "python3"
  },
  "language_info": {
   "codemirror_mode": {
    "name": "ipython",
    "version": 3
   },
   "file_extension": ".py",
   "mimetype": "text/x-python",
   "name": "python",
   "nbconvert_exporter": "python",
   "pygments_lexer": "ipython3",
   "version": "3.10.9"
  }
 },
 "nbformat": 4,
 "nbformat_minor": 5
}
