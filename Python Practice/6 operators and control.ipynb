{
 "cells": [
  {
   "cell_type": "markdown",
   "id": "996af2fd",
   "metadata": {},
   "source": [
    "- // --> quotient\n",
    "- %  --> Remainder\n",
    "- /  --> division"
   ]
  },
  {
   "cell_type": "code",
   "execution_count": 1,
   "id": "2eb6564c",
   "metadata": {},
   "outputs": [
    {
     "name": "stdout",
     "output_type": "stream",
     "text": [
      "2\n",
      "1\n",
      "2.5\n"
     ]
    }
   ],
   "source": [
    "print(5//2)\n",
    "print(5%2)\n",
    "print((5/2))"
   ]
  },
  {
   "cell_type": "markdown",
   "id": "dd463fdc",
   "metadata": {},
   "source": [
    "# conditional flow control"
   ]
  },
  {
   "cell_type": "markdown",
   "id": "8dfdfe73",
   "metadata": {},
   "source": [
    "If, Elif, else"
   ]
  },
  {
   "cell_type": "code",
   "execution_count": 2,
   "id": "2f4805ec",
   "metadata": {},
   "outputs": [
    {
     "name": "stdout",
     "output_type": "stream",
     "text": [
      "Total Bill:  99.2\n"
     ]
    }
   ],
   "source": [
    "loyalty_customer = True\n",
    "total_bill = 124\n",
    "\n",
    "if loyalty_customer and total_bill > 100:\n",
    "    #give 20% discount\n",
    "    total_bill = total_bill - (total_bill/ 100) * 20\n",
    "elif total_bill > 100:\n",
    "    #give 10% discount\n",
    "    total_bill = total_bill - (total_bill/ 100) * 10\n",
    "else:\n",
    "    #sorry no discount, 5% service charge applied.\n",
    "    print('Sorry, no discount ...')\n",
    "\n",
    "print('Total Bill: ', float(total_bill))"
   ]
  },
  {
   "cell_type": "markdown",
   "id": "d60fedac",
   "metadata": {},
   "source": [
    "# switch"
   ]
  },
  {
   "cell_type": "code",
   "execution_count": 7,
   "id": "207b839c",
   "metadata": {},
   "outputs": [
    {
     "name": "stdout",
     "output_type": "stream",
     "text": [
      "True\n",
      "True\n"
     ]
    }
   ],
   "source": [
    "print(True | False)\n",
    "print(True or False)"
   ]
  },
  {
   "cell_type": "code",
   "execution_count": 14,
   "id": "57ce397d",
   "metadata": {},
   "outputs": [
    {
     "name": "stdout",
     "output_type": "stream",
     "text": [
      "hi\n"
     ]
    }
   ],
   "source": [
    "var = 4\n",
    "match var:\n",
    "    case 4:\n",
    "        print(\"hi\")\n",
    "    case _:\n",
    "        print(\"default\")"
   ]
  },
  {
   "cell_type": "markdown",
   "id": "41147aef",
   "metadata": {},
   "source": [
    "# for loop"
   ]
  },
  {
   "cell_type": "code",
   "execution_count": 20,
   "id": "be3243a9",
   "metadata": {},
   "outputs": [
    {
     "name": "stdout",
     "output_type": "stream",
     "text": [
      "r\n",
      "i\n",
      "t\n",
      "e\n",
      "s\n",
      "h\n"
     ]
    }
   ],
   "source": [
    "string = 'ritesh'\n",
    "for item in string:\n",
    "    print(item)"
   ]
  },
  {
   "cell_type": "markdown",
   "id": "3e83b21a",
   "metadata": {},
   "source": [
    "**iteration goes to 0 to (index - 1)**"
   ]
  },
  {
   "cell_type": "code",
   "execution_count": 22,
   "id": "77072968",
   "metadata": {},
   "outputs": [
    {
     "name": "stdout",
     "output_type": "stream",
     "text": [
      "ritesh\n",
      "priya\n",
      "sidhant\n",
      "shivang\n",
      "rahul\n",
      "rohit\n"
     ]
    }
   ],
   "source": [
    "names =['ritesh', 'priya', 'sidhant', 'shivang', 'rahul', 'rohit']\n",
    "for name in names:\n",
    "    print(name)"
   ]
  },
  {
   "cell_type": "markdown",
   "id": "f37b6870",
   "metadata": {},
   "source": [
    "### enumerate()"
   ]
  },
  {
   "cell_type": "markdown",
   "id": "286ef258",
   "metadata": {},
   "source": [
    " Enumerate() method adds a counter to an iterable and returns it in a form of enumerating object. This enumerated object can then be used directly for loops or converted into a list of tuples using the list() function."
   ]
  },
  {
   "cell_type": "code",
   "execution_count": 33,
   "id": "1b53a115",
   "metadata": {},
   "outputs": [
    {
     "name": "stdout",
     "output_type": "stream",
     "text": [
      "(0, 'ritesh')\n",
      "(1, 'priya')\n",
      "(2, 'sidhant')\n",
      "(3, 'shivang')\n",
      "(4, 'rahul')\n",
      "(5, 'rohit')\n"
     ]
    }
   ],
   "source": [
    "names =['ritesh', 'priya', 'sidhant', 'shivang', 'rahul', 'rohit']\n",
    "for i in enumerate(names):\n",
    "    print(i)"
   ]
  },
  {
   "cell_type": "code",
   "execution_count": 29,
   "id": "fce75a4d",
   "metadata": {},
   "outputs": [
    {
     "name": "stdout",
     "output_type": "stream",
     "text": [
      "0 ritesh\n",
      "1 priya\n",
      "2 sidhant\n",
      "3 shivang\n",
      "4 rahul\n",
      "5 rohit\n"
     ]
    }
   ],
   "source": [
    "# enumerate\n",
    "names =['ritesh', 'priya', 'sidhant', 'shivang', 'rahul', 'rohit']\n",
    "for idx, name in enumerate(names):\n",
    "    print(idx, name)"
   ]
  },
  {
   "cell_type": "markdown",
   "id": "aae0ff78",
   "metadata": {},
   "source": [
    "# while loop"
   ]
  },
  {
   "cell_type": "code",
   "execution_count": 23,
   "id": "a3eb0338",
   "metadata": {},
   "outputs": [
    {
     "name": "stdout",
     "output_type": "stream",
     "text": [
      "ritesh\n",
      "priya\n",
      "sidhant\n",
      "shivang\n",
      "rahul\n",
      "rohit\n"
     ]
    }
   ],
   "source": [
    "names =['ritesh', 'priya', 'sidhant', 'shivang', 'rahul', 'rohit']\n",
    "count = 0\n",
    "while count < len(names):\n",
    "    print(names[count])\n",
    "    count += 1"
   ]
  },
  {
   "cell_type": "code",
   "execution_count": 30,
   "id": "db0176a3",
   "metadata": {},
   "outputs": [
    {
     "name": "stdout",
     "output_type": "stream",
     "text": [
      "(0, 'ritesh')\n",
      "(1, 'priya')\n",
      "(2, 'sidhant')\n",
      "(3, 'shivang')\n",
      "(4, 'rahul')\n",
      "(5, 'rohit')\n"
     ]
    }
   ],
   "source": [
    "for i in enumerate(names):\n",
    "    print(i)"
   ]
  },
  {
   "cell_type": "markdown",
   "id": "4cbdda9a",
   "metadata": {},
   "source": [
    "# break"
   ]
  },
  {
   "cell_type": "markdown",
   "id": "a95d3aea",
   "metadata": {},
   "source": [
    "The break statement is used to terminate the loop or statement in which it is present. After that, the control will pass to the statements that are present after the break statement, if available. If the break statement is present in the nested loop, then it terminates only those loops which contains break statement. "
   ]
  },
  {
   "cell_type": "code",
   "execution_count": 43,
   "id": "fdc1db2e",
   "metadata": {},
   "outputs": [
    {
     "name": "stdout",
     "output_type": "stream",
     "text": [
      "U\n",
      "p\n",
      "g\n",
      "r\n",
      "a\n",
      "not found\n"
     ]
    }
   ],
   "source": [
    "string = 'Upgrad'\n",
    "for i in string:\n",
    "    print(i)\n",
    "    if i == 'a':\n",
    "        break\n",
    "print(\"not found\")"
   ]
  },
  {
   "cell_type": "code",
   "execution_count": 47,
   "id": "8b1c65a0",
   "metadata": {},
   "outputs": [
    {
     "name": "stdout",
     "output_type": "stream",
     "text": [
      "R\n",
      "i\n",
      "t\n",
      "out of loop\n"
     ]
    }
   ],
   "source": [
    "string = 'Ritesh'\n",
    "i=0\n",
    "while True:\n",
    "    print(string[i])\n",
    "    if string[i] == 't':\n",
    "        break\n",
    "    i +=1\n",
    "print(\"out of loop\")"
   ]
  },
  {
   "cell_type": "markdown",
   "id": "80e6541b",
   "metadata": {},
   "source": [
    "# continue()"
   ]
  },
  {
   "cell_type": "markdown",
   "id": "354d3fb5",
   "metadata": {},
   "source": [
    "it skips the value next start iteration"
   ]
  },
  {
   "cell_type": "code",
   "execution_count": 49,
   "id": "7f971310",
   "metadata": {},
   "outputs": [
    {
     "name": "stdout",
     "output_type": "stream",
     "text": [
      "R\n",
      "i\n",
      "e\n",
      "s\n",
      "h\n"
     ]
    }
   ],
   "source": [
    "string = 'Ritesh'\n",
    "for i in string:\n",
    "    if i == 't':\n",
    "        continue\n",
    "    else:\n",
    "        print(i)\n"
   ]
  },
  {
   "cell_type": "markdown",
   "id": "16b62ea1",
   "metadata": {},
   "source": [
    "# Pass()"
   ]
  },
  {
   "cell_type": "markdown",
   "id": "d50706a2",
   "metadata": {},
   "source": [
    "The pass statement in Python is used when a statement is required syntactically but you do not want any command or code to execute. It is like null operation, as nothing will happen is it is executed. Pass statement can also be used for writing empty loops. Pass is also used for empty control statement, function and classes."
   ]
  },
  {
   "cell_type": "code",
   "execution_count": 53,
   "id": "45dedf7b",
   "metadata": {},
   "outputs": [
    {
     "name": "stdout",
     "output_type": "stream",
     "text": [
      "n\n",
      "a\n",
      "m\n",
      "e\n",
      "s\n"
     ]
    }
   ],
   "source": [
    "string = 'names'\n",
    "def fun():\n",
    "    pass\n",
    "fun()\n",
    "for i in string:\n",
    "    if i in string == 'e':\n",
    "        print(\"pass\")\n",
    "        pass\n",
    "    print(i)"
   ]
  },
  {
   "cell_type": "markdown",
   "id": "58bc823c",
   "metadata": {},
   "source": [
    "# Nested loop"
   ]
  },
  {
   "cell_type": "code",
   "execution_count": 70,
   "id": "d39bc6bf",
   "metadata": {},
   "outputs": [
    {
     "name": "stdout",
     "output_type": "stream",
     "text": [
      "0\n",
      "1 2 3 4 5 6 7 8 9  \n",
      "1\n",
      "1 2 3 4 5 6 7 8 9  \n",
      "2\n",
      "1 2 3 4 5 6 7 8 9  \n",
      "3\n",
      "1 2 3 4 5 6 7 8 9  \n",
      "4\n",
      "1 2 3 4 5 6 7 8 9  \n",
      "5\n",
      "1 2 3 4 5 6 7 8 9  \n",
      "6\n",
      "1 2 3 4 5 6 7 8 9  \n",
      "7\n",
      "1 2 3 4 5 6 7 8 9  \n",
      "8\n",
      "1 2 3 4 5 6 7 8 9  \n",
      "9\n",
      "1 2 3 4 5 6 7 8 9  \n"
     ]
    }
   ],
   "source": [
    "for i in range(10):\n",
    "    print(i)\n",
    "    for j in range(1,10):\n",
    "        print(j, end=\" \")\n",
    "    print(\" \")"
   ]
  },
  {
   "cell_type": "code",
   "execution_count": 76,
   "id": "bf1f9ce6",
   "metadata": {},
   "outputs": [
    {
     "name": "stdout",
     "output_type": "stream",
     "text": [
      "0 1 2 3 4 \n",
      "0 1 2 3 4 \n"
     ]
    }
   ],
   "source": [
    "for i in range(2):\n",
    "    for j in range(5):\n",
    "        print(j, end= \" \")\n",
    "    print()"
   ]
  },
  {
   "cell_type": "code",
   "execution_count": 78,
   "id": "597bb420",
   "metadata": {},
   "outputs": [
    {
     "ename": "TypeError",
     "evalue": "isinstance() arg 2 must be a type, a tuple of types, or a union",
     "output_type": "error",
     "traceback": [
      "\u001b[1;31m---------------------------------------------------------------------------\u001b[0m",
      "\u001b[1;31mTypeError\u001b[0m                                 Traceback (most recent call last)",
      "Cell \u001b[1;32mIn[78], line 1\u001b[0m\n\u001b[1;32m----> 1\u001b[0m a \u001b[38;5;241m=\u001b[39m\u001b[38;5;28;43misinstance\u001b[39;49m\u001b[43m(\u001b[49m\u001b[38;5;28;43mstr\u001b[39;49m\u001b[43m,\u001b[49m\u001b[43m \u001b[49m\u001b[38;5;124;43m\"\u001b[39;49m\u001b[38;5;124;43maa\u001b[39;49m\u001b[38;5;124;43m\"\u001b[39;49m\u001b[43m)\u001b[49m\n\u001b[0;32m      2\u001b[0m \u001b[38;5;28mprint\u001b[39m(a)\n",
      "\u001b[1;31mTypeError\u001b[0m: isinstance() arg 2 must be a type, a tuple of types, or a union"
     ]
    }
   ],
   "source": [
    "a =isinstance(str, \"aa\")\n",
    "print(a)"
   ]
  },
  {
   "cell_type": "code",
   "execution_count": 79,
   "id": "72f424eb",
   "metadata": {},
   "outputs": [
    {
     "name": "stdout",
     "output_type": "stream",
     "text": [
      "t\n"
     ]
    },
    {
     "data": {
      "text/plain": [
       "'t'"
      ]
     },
     "execution_count": 79,
     "metadata": {},
     "output_type": "execute_result"
    }
   ],
   "source": [
    "input(\"\")"
   ]
  },
  {
   "cell_type": "code",
   "execution_count": null,
   "id": "0f16e8cf",
   "metadata": {},
   "outputs": [],
   "source": []
  }
 ],
 "metadata": {
  "kernelspec": {
   "display_name": "Python 3 (ipykernel)",
   "language": "python",
   "name": "python3"
  },
  "language_info": {
   "codemirror_mode": {
    "name": "ipython",
    "version": 3
   },
   "file_extension": ".py",
   "mimetype": "text/x-python",
   "name": "python",
   "nbconvert_exporter": "python",
   "pygments_lexer": "ipython3",
   "version": "3.10.9"
  }
 },
 "nbformat": 4,
 "nbformat_minor": 5
}
