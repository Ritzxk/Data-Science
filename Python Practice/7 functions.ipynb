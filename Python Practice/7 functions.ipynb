{
 "cells": [
  {
   "cell_type": "markdown",
   "id": "c7c2480d",
   "metadata": {},
   "source": [
    "#### function syntax\n",
    "def function_name (params):\n",
    "\n",
    ">task"
   ]
  },
  {
   "cell_type": "markdown",
   "id": "4554dc1d",
   "metadata": {},
   "source": [
    "In Python, a function is a block of code that performs a specific task and can be called from other parts of the code. Functions are used to break down a program into smaller, more manageable pieces, and to reuse code that performs a specific task."
   ]
  },
  {
   "cell_type": "code",
   "execution_count": 3,
   "id": "80512b20",
   "metadata": {},
   "outputs": [
    {
     "name": "stdout",
     "output_type": "stream",
     "text": [
      "8\n"
     ]
    }
   ],
   "source": [
    "# sum of two number\n",
    "def sum(x,y):\n",
    "    return x+y\n",
    "print(sum(3,5))"
   ]
  },
  {
   "cell_type": "code",
   "execution_count": 8,
   "id": "0b681e31",
   "metadata": {},
   "outputs": [
    {
     "name": "stdout",
     "output_type": "stream",
     "text": [
      "cp: 4\n",
      "sp: 4\n",
      "equal\n"
     ]
    }
   ],
   "source": [
    "# this function calculate profit or loss \n",
    "def p_or_l(cp,sp):\n",
    "    if cp == sp:\n",
    "        return \"equal\"\n",
    "    elif cp > sp:\n",
    "        return \"loss\"\n",
    "    else:\n",
    "        return \"profit\"\n",
    "cp = float(input(\"cp: \"))\n",
    "sp = float(input(\"sp: \"))\n",
    "print(p_or_l(cp,sp))\n",
    "        \n",
    "    "
   ]
  },
  {
   "cell_type": "markdown",
   "id": "2962eb66",
   "metadata": {},
   "source": [
    "# function and variable scope"
   ]
  },
  {
   "cell_type": "markdown",
   "id": "9bc974fa",
   "metadata": {},
   "source": [
    "### 1 local scope"
   ]
  },
  {
   "cell_type": "markdown",
   "id": "70719cbe",
   "metadata": {},
   "source": [
    "Local scope refers to a variable declared inside a function. For example, in the code below, the variable total is only available to the code within the get_total function. Anything outside of this function will not have access to it."
   ]
  },
  {
   "cell_type": "code",
   "execution_count": 9,
   "id": "2c26fdb5",
   "metadata": {},
   "outputs": [
    {
     "ename": "SyntaxError",
     "evalue": "invalid syntax (2081971341.py, line 11)",
     "output_type": "error",
     "traceback": [
      "\u001b[1;36m  Cell \u001b[1;32mIn[9], line 11\u001b[1;36m\u001b[0m\n\u001b[1;33m    NameError: name 'total' is not define\u001b[0m\n\u001b[1;37m                    ^\u001b[0m\n\u001b[1;31mSyntaxError\u001b[0m\u001b[1;31m:\u001b[0m invalid syntax\n"
     ]
    }
   ],
   "source": [
    "def get_total(a, b):\n",
    "    #local variable declared inside a function\n",
    "    total = a + b;\n",
    "    return total\n",
    "\n",
    "print(get_total(5, 2))\n",
    "7\n",
    "\n",
    "# Accessing variable outside of the function:\n",
    "print(total)\n",
    "NameError: name 'total' is not define"
   ]
  },
  {
   "cell_type": "markdown",
   "id": "20bcadac",
   "metadata": {},
   "source": [
    "## 2 Enclosing scope"
   ]
  },
  {
   "cell_type": "markdown",
   "id": "7cd0c239",
   "metadata": {},
   "source": [
    "Enclosing scope refers to a function inside another function or what is commonly called a nested function. \n",
    "\n",
    "In the code below, I added a nested function called double_it to the get_total function. \n",
    "\n",
    "As double_it is inside the scope for the get_total function it can then access the variable. However, the enclosed variable inside the double_it function cannot be accessed from inside the get_total function."
   ]
  },
  {
   "cell_type": "code",
   "execution_count": 10,
   "id": "deca1444",
   "metadata": {},
   "outputs": [],
   "source": [
    "def get_total(a, b):\n",
    "    #enclosed variable declared inside a function\n",
    "    total = a + b\n",
    "\n",
    "    def double_it():\n",
    "        #local variable\n",
    "        double = total * 2\n",
    "        print(double)\n",
    "\n",
    "    double_it()\n",
    "    #double variable will not be accessible\n",
    "    print(double)\n",
    "\n",
    "    return total"
   ]
  },
  {
   "cell_type": "markdown",
   "id": "ba5eaac0",
   "metadata": {},
   "source": [
    "## 3 global scope"
   ]
  },
  {
   "cell_type": "markdown",
   "id": "dbebda7c",
   "metadata": {},
   "source": [
    "Global scope is when a variable is declared outside of a function. This means it can be accessed from anywhere. \n",
    "\n",
    "In the code below, I  added a global variable called special. This can then be accessed from both functions get_total and double_it:"
   ]
  },
  {
   "cell_type": "code",
   "execution_count": 13,
   "id": "3fb7fe2a",
   "metadata": {},
   "outputs": [
    {
     "name": "stdout",
     "output_type": "stream",
     "text": [
      "5\n",
      "5\n"
     ]
    },
    {
     "data": {
      "text/plain": [
       "12"
      ]
     },
     "execution_count": 13,
     "metadata": {},
     "output_type": "execute_result"
    }
   ],
   "source": [
    "special = 5\n",
    "\n",
    "def get_total(a, b):\n",
    "    #enclosed scope variable declared inside a function\n",
    "    total = a + b\n",
    "    print(special)\n",
    "\n",
    "    def double_it():\n",
    "        #local variable\n",
    "        double = total * 2\n",
    "        print(special)\n",
    "\n",
    "    double_it()\n",
    "\n",
    "    return total\n",
    "get_total(5,7)"
   ]
  },
  {
   "cell_type": "markdown",
   "id": "ffbd7ecc",
   "metadata": {},
   "source": [
    "## 4 Built in scope"
   ]
  },
  {
   "cell_type": "markdown",
   "id": "5c2262bf",
   "metadata": {},
   "source": [
    "Built-in scope refers to the reserved keywords that Python uses for its built-in functions, such as print, def, for, in, and so forth.  Functions with built-in scope can be accessed at any level."
   ]
  },
  {
   "cell_type": "code",
   "execution_count": null,
   "id": "cabf894c",
   "metadata": {},
   "outputs": [],
   "source": []
  }
 ],
 "metadata": {
  "kernelspec": {
   "display_name": "Python 3 (ipykernel)",
   "language": "python",
   "name": "python3"
  },
  "language_info": {
   "codemirror_mode": {
    "name": "ipython",
    "version": 3
   },
   "file_extension": ".py",
   "mimetype": "text/x-python",
   "name": "python",
   "nbconvert_exporter": "python",
   "pygments_lexer": "ipython3",
   "version": "3.10.9"
  }
 },
 "nbformat": 4,
 "nbformat_minor": 5
}
