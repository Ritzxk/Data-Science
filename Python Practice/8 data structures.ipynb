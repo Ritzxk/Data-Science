{
 "cells": [
  {
   "cell_type": "markdown",
   "id": "72839821",
   "metadata": {},
   "source": [
    "# Data structures"
   ]
  },
  {
   "cell_type": "markdown",
   "id": "413363ca",
   "metadata": {},
   "source": [
    "Data structures are ways of organizing and storing data in a computer program. Different data structures are used for different purposes, depending on the requirements of the program."
   ]
  },
  {
   "cell_type": "markdown",
   "id": "3676457b",
   "metadata": {},
   "source": [
    "- Built-in DS : List, Dictioner, Tuple, Set\n",
    "- User-defines DS : Stack, LinkedList, Tree, Graph, Queue, etc"
   ]
  },
  {
   "cell_type": "markdown",
   "id": "d4116873",
   "metadata": {},
   "source": [
    "# 1.List"
   ]
  },
  {
   "cell_type": "code",
   "execution_count": 2,
   "id": "fcff7ed7",
   "metadata": {},
   "outputs": [
    {
     "data": {
      "text/plain": [
       "['ritesh', True, 45.7, 22]"
      ]
     },
     "execution_count": 2,
     "metadata": {},
     "output_type": "execute_result"
    }
   ],
   "source": [
    "l1 = ['ritesh', True, 45.7, 22]\n",
    "l1"
   ]
  },
  {
   "cell_type": "code",
   "execution_count": 8,
   "id": "9f2adc46",
   "metadata": {},
   "outputs": [
    {
     "data": {
      "text/plain": [
       "list"
      ]
     },
     "execution_count": 8,
     "metadata": {},
     "output_type": "execute_result"
    }
   ],
   "source": [
    "type(l1)"
   ]
  },
  {
   "cell_type": "code",
   "execution_count": 10,
   "id": "c7a64927",
   "metadata": {},
   "outputs": [],
   "source": [
    "l1 = [1,2,3,4]\n",
    "l1.append(7)"
   ]
  },
  {
   "cell_type": "code",
   "execution_count": 12,
   "id": "91b64537",
   "metadata": {},
   "outputs": [
    {
     "data": {
      "text/plain": [
       "[1, 2, 3, 4, 7, 8, 9]"
      ]
     },
     "execution_count": 12,
     "metadata": {},
     "output_type": "execute_result"
    }
   ],
   "source": [
    "l1.extend([8,9])\n",
    "l1"
   ]
  },
  {
   "cell_type": "code",
   "execution_count": 15,
   "id": "2cc08365",
   "metadata": {},
   "outputs": [],
   "source": [
    "l1.insert(3,[4,5])"
   ]
  },
  {
   "cell_type": "code",
   "execution_count": 16,
   "id": "6ea95aa1",
   "metadata": {},
   "outputs": [
    {
     "data": {
      "text/plain": [
       "[1, 2, 3, [4, 5], 4, 7, 8, 9]"
      ]
     },
     "execution_count": 16,
     "metadata": {},
     "output_type": "execute_result"
    }
   ],
   "source": [
    "l1"
   ]
  },
  {
   "cell_type": "markdown",
   "id": "dcce9b36",
   "metadata": {},
   "source": [
    "# sets"
   ]
  },
  {
   "cell_type": "code",
   "execution_count": 22,
   "id": "ff4faddf",
   "metadata": {},
   "outputs": [
    {
     "name": "stdout",
     "output_type": "stream",
     "text": [
      "union of set a and b : {1, 2, 3, 4, 5, 6, 7, 8}\n",
      "intersection of set a and b: {3, 4}\n",
      "only a i.e., seta -set b : {1, 2}\n"
     ]
    }
   ],
   "source": [
    "set_a = {1,2,3,4}\n",
    "set_b = {3,4,5,6,7,8}\n",
    "\n",
    "# union\n",
    "print(f\"union of set a and b : {set_a | set_b}\")\n",
    "print(f\"intersection of set a and b: {set_a.intersection(set_b)}\")\n",
    "print(f\"only a i.e., seta -set b : {set_a - set_b}\")"
   ]
  },
  {
   "cell_type": "code",
   "execution_count": 19,
   "id": "3e29ce5c",
   "metadata": {},
   "outputs": [
    {
     "data": {
      "text/plain": [
       "{1, 2, 3, 4}"
      ]
     },
     "execution_count": 19,
     "metadata": {},
     "output_type": "execute_result"
    }
   ],
   "source": [
    "set_a"
   ]
  },
  {
   "cell_type": "code",
   "execution_count": 20,
   "id": "00164816",
   "metadata": {},
   "outputs": [
    {
     "data": {
      "text/plain": [
       "{3, 4, 5, 6, 7, 8}"
      ]
     },
     "execution_count": 20,
     "metadata": {},
     "output_type": "execute_result"
    }
   ],
   "source": [
    "set_b"
   ]
  },
  {
   "cell_type": "markdown",
   "id": "b50ce26f",
   "metadata": {},
   "source": [
    "# dictionery"
   ]
  },
  {
   "cell_type": "code",
   "execution_count": 23,
   "id": "ae86fc12",
   "metadata": {},
   "outputs": [
    {
     "data": {
      "text/plain": [
       "dict"
      ]
     },
     "execution_count": 23,
     "metadata": {},
     "output_type": "execute_result"
    }
   ],
   "source": [
    "d = {}\n",
    "type(d)"
   ]
  },
  {
   "cell_type": "code",
   "execution_count": 24,
   "id": "24bf8f19",
   "metadata": {},
   "outputs": [
    {
     "data": {
      "text/plain": [
       "{1: ' ritesh', 2: 'kumar', 3: '22'}"
      ]
     },
     "execution_count": 24,
     "metadata": {},
     "output_type": "execute_result"
    }
   ],
   "source": [
    "d = {1: ' ritesh', 2: 'kumar', 3:'22'}\n",
    "d"
   ]
  },
  {
   "cell_type": "code",
   "execution_count": 25,
   "id": "00dd2a81",
   "metadata": {},
   "outputs": [
    {
     "data": {
      "text/plain": [
       "dict_keys([1, 2, 3])"
      ]
     },
     "execution_count": 25,
     "metadata": {},
     "output_type": "execute_result"
    }
   ],
   "source": [
    "d.keys()"
   ]
  },
  {
   "cell_type": "code",
   "execution_count": 26,
   "id": "1a798012",
   "metadata": {},
   "outputs": [
    {
     "data": {
      "text/plain": [
       "dict_values([' ritesh', 'kumar', '22'])"
      ]
     },
     "execution_count": 26,
     "metadata": {},
     "output_type": "execute_result"
    }
   ],
   "source": [
    "d.values()"
   ]
  },
  {
   "cell_type": "code",
   "execution_count": 30,
   "id": "9bf7ce8c",
   "metadata": {},
   "outputs": [],
   "source": [
    "d[1] = 'Rahul'"
   ]
  },
  {
   "cell_type": "code",
   "execution_count": 31,
   "id": "496fb76b",
   "metadata": {},
   "outputs": [
    {
     "data": {
      "text/plain": [
       "{1: 'Rahul', 2: 'kumar', 3: '22'}"
      ]
     },
     "execution_count": 31,
     "metadata": {},
     "output_type": "execute_result"
    }
   ],
   "source": [
    "d"
   ]
  },
  {
   "cell_type": "code",
   "execution_count": 33,
   "id": "96765617",
   "metadata": {},
   "outputs": [],
   "source": [
    "del[d[1]]"
   ]
  },
  {
   "cell_type": "code",
   "execution_count": 34,
   "id": "824fabfa",
   "metadata": {},
   "outputs": [
    {
     "data": {
      "text/plain": [
       "{2: 'kumar', 3: '22'}"
      ]
     },
     "execution_count": 34,
     "metadata": {},
     "output_type": "execute_result"
    }
   ],
   "source": [
    "d"
   ]
  },
  {
   "cell_type": "code",
   "execution_count": 39,
   "id": "161eea66",
   "metadata": {},
   "outputs": [],
   "source": [
    "d[1]='Ritesh'"
   ]
  },
  {
   "cell_type": "code",
   "execution_count": 40,
   "id": "dd9319ea",
   "metadata": {},
   "outputs": [
    {
     "data": {
      "text/plain": [
       "{2: 'kumar', 3: '22', 0: {1: 'Ritesh'}, 1: 'Ritesh'}"
      ]
     },
     "execution_count": 40,
     "metadata": {},
     "output_type": "execute_result"
    }
   ],
   "source": [
    "d"
   ]
  },
  {
   "cell_type": "code",
   "execution_count": 41,
   "id": "091d1db7",
   "metadata": {},
   "outputs": [],
   "source": [
    "del(d[0])"
   ]
  },
  {
   "cell_type": "code",
   "execution_count": 42,
   "id": "cc94f120",
   "metadata": {},
   "outputs": [
    {
     "data": {
      "text/plain": [
       "{2: 'kumar', 3: '22', 1: 'Ritesh'}"
      ]
     },
     "execution_count": 42,
     "metadata": {},
     "output_type": "execute_result"
    }
   ],
   "source": [
    "d"
   ]
  },
  {
   "cell_type": "code",
   "execution_count": 45,
   "id": "ba369d95",
   "metadata": {},
   "outputs": [
    {
     "data": {
      "text/plain": [
       "[1, 2, 3]"
      ]
     },
     "execution_count": 45,
     "metadata": {},
     "output_type": "execute_result"
    }
   ],
   "source": [
    "sorted(d)"
   ]
  },
  {
   "cell_type": "code",
   "execution_count": 46,
   "id": "781af8ae",
   "metadata": {},
   "outputs": [
    {
     "data": {
      "text/plain": [
       "{2: 'kumar', 3: '22', 1: 'Ritesh'}"
      ]
     },
     "execution_count": 46,
     "metadata": {},
     "output_type": "execute_result"
    }
   ],
   "source": [
    "d"
   ]
  },
  {
   "cell_type": "markdown",
   "id": "f84b3f8d",
   "metadata": {},
   "source": [
    "# *args"
   ]
  },
  {
   "cell_type": "markdown",
   "id": "cd689ac6",
   "metadata": {},
   "source": [
    "It is used to pass a non-keyworded, variable-length argument list in a function"
   ]
  },
  {
   "cell_type": "code",
   "execution_count": 1,
   "id": "0d1685ee",
   "metadata": {},
   "outputs": [
    {
     "data": {
      "text/plain": [
       "23"
      ]
     },
     "execution_count": 1,
     "metadata": {},
     "output_type": "execute_result"
    }
   ],
   "source": [
    "def cal_sum(*args):\n",
    "    sum = 0\n",
    "    for i in args:\n",
    "        sum += i\n",
    "    return sum\n",
    "\n",
    "cal_sum(3,5,7,8)"
   ]
  },
  {
   "cell_type": "markdown",
   "id": "69d2d688",
   "metadata": {},
   "source": [
    "# **kwargs"
   ]
  },
  {
   "cell_type": "markdown",
   "id": "41ff3b80",
   "metadata": {},
   "source": [
    "**kwargs in function definitions in Python is used to pass a keyworded, variable-length argument list."
   ]
  },
  {
   "cell_type": "code",
   "execution_count": 4,
   "id": "187fffef",
   "metadata": {},
   "outputs": [
    {
     "name": "stdout",
     "output_type": "stream",
     "text": [
      "first == Geeks\n",
      "mid == for\n",
      "last == Geeks\n"
     ]
    }
   ],
   "source": [
    "def myFun(**kwargs):\n",
    "    for key, value in kwargs.items():\n",
    "        print(f\"{key} == {value}\")\n",
    "        \n",
    "# Driver code\n",
    "myFun(first='Geeks', mid='for', last='Geeks')\n"
   ]
  },
  {
   "cell_type": "code",
   "execution_count": null,
   "id": "0b8b6cd5",
   "metadata": {},
   "outputs": [],
   "source": []
  }
 ],
 "metadata": {
  "kernelspec": {
   "display_name": "Python 3 (ipykernel)",
   "language": "python",
   "name": "python3"
  },
  "language_info": {
   "codemirror_mode": {
    "name": "ipython",
    "version": 3
   },
   "file_extension": ".py",
   "mimetype": "text/x-python",
   "name": "python",
   "nbconvert_exporter": "python",
   "pygments_lexer": "ipython3",
   "version": "3.10.9"
  }
 },
 "nbformat": 4,
 "nbformat_minor": 5
}
