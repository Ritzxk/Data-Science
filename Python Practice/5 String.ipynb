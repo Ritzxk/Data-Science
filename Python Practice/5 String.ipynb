{
 "cells": [
  {
   "cell_type": "code",
   "execution_count": 8,
   "id": "d32f7fa1",
   "metadata": {},
   "outputs": [
    {
     "name": "stdout",
     "output_type": "stream",
     "text": [
      "name init : Ritesh\n",
      "name after assaiggn: kumar\n"
     ]
    }
   ],
   "source": [
    "# assaigning new values to string\n",
    "name = \"Ritesh\"\n",
    "print(\"name init :\", name)\n",
    "name = \"kumar\"\n",
    "print(\"name after assaiggn:\",name)\n"
   ]
  },
  {
   "cell_type": "code",
   "execution_count": 23,
   "id": "34756595",
   "metadata": {},
   "outputs": [
    {
     "name": "stdout",
     "output_type": "stream",
     "text": [
      "age type : <class 'int'> \n",
      "age : 22\n",
      "age type type caste to str : <class 'str'> \n",
      "age: 22\n",
      "age type type caste to str : <class 'float'> \n",
      "age: 22.0\n"
     ]
    }
   ],
   "source": [
    "age = 22\n",
    "print(f\"age type : {type(age)} \\nage : {age}\")\n",
    "print(f\"age type type caste to str : {type(str(age))} \\nage: {str(age)}\")\n",
    "print(f\"age type type caste to str : {type(float(age))} \\nage: {float(age)}\")"
   ]
  },
  {
   "cell_type": "code",
   "execution_count": 13,
   "id": "27bb2ef4",
   "metadata": {},
   "outputs": [
    {
     "name": "stdout",
     "output_type": "stream",
     "text": [
      "I am 22 years old\n"
     ]
    }
   ],
   "source": [
    "print(f\"I am {age} years old\")"
   ]
  },
  {
   "cell_type": "code",
   "execution_count": 25,
   "id": "fa010ef2",
   "metadata": {},
   "outputs": [
    {
     "data": {
      "text/plain": [
       "'22'"
      ]
     },
     "execution_count": 25,
     "metadata": {},
     "output_type": "execute_result"
    }
   ],
   "source": [
    "age = 22\n",
    "str(age)"
   ]
  },
  {
   "cell_type": "code",
   "execution_count": 26,
   "id": "8d7e2715",
   "metadata": {},
   "outputs": [
    {
     "data": {
      "text/plain": [
       "22.0"
      ]
     },
     "execution_count": 26,
     "metadata": {},
     "output_type": "execute_result"
    }
   ],
   "source": [
    "float(age)"
   ]
  },
  {
   "cell_type": "code",
   "execution_count": 27,
   "id": "86805d27",
   "metadata": {},
   "outputs": [
    {
     "data": {
      "text/plain": [
       "1"
      ]
     },
     "execution_count": 27,
     "metadata": {},
     "output_type": "execute_result"
    }
   ],
   "source": [
    "a = True\n",
    "int(a)"
   ]
  },
  {
   "cell_type": "code",
   "execution_count": 28,
   "id": "bf1e4fe1",
   "metadata": {},
   "outputs": [
    {
     "data": {
      "text/plain": [
       "'True'"
      ]
     },
     "execution_count": 28,
     "metadata": {},
     "output_type": "execute_result"
    }
   ],
   "source": [
    "str(a)"
   ]
  },
  {
   "cell_type": "code",
   "execution_count": 29,
   "id": "3db4de55",
   "metadata": {},
   "outputs": [
    {
     "data": {
      "text/plain": [
       "1.0"
      ]
     },
     "execution_count": 29,
     "metadata": {},
     "output_type": "execute_result"
    }
   ],
   "source": [
    "float(a)"
   ]
  },
  {
   "cell_type": "code",
   "execution_count": 32,
   "id": "1abc2fcd",
   "metadata": {},
   "outputs": [
    {
     "name": "stdout",
     "output_type": "stream",
     "text": [
      "Hello + Ritesh\n"
     ]
    }
   ],
   "source": [
    "print('Hello', 'Ritesh', sep=' + ')"
   ]
  },
  {
   "cell_type": "code",
   "execution_count": 36,
   "id": "2a1885a6",
   "metadata": {},
   "outputs": [
    {
     "name": "stdout",
     "output_type": "stream",
     "text": [
      "1+3+4+5+6+7+8\n",
      "hii\n"
     ]
    }
   ],
   "source": [
    "print(1,3,4,5,6,7,8, sep='+', end='\\n')\n",
    "print('hii')"
   ]
  },
  {
   "cell_type": "code",
   "execution_count": 9,
   "id": "e5bddb7a",
   "metadata": {},
   "outputs": [
    {
     "name": "stdout",
     "output_type": "stream",
     "text": [
      "13\n",
      "<class 'str'>\n",
      "<class 'int'>\n"
     ]
    }
   ],
   "source": [
    "a = '6'\n",
    "b = '7'\n",
    "c = int(a)+int(b)\n",
    "print(c)\n",
    "print(type(a))\n",
    "print(type(c))"
   ]
  },
  {
   "cell_type": "code",
   "execution_count": 10,
   "id": "f7271728",
   "metadata": {},
   "outputs": [
    {
     "name": "stdout",
     "output_type": "stream",
     "text": [
      "2\n"
     ]
    }
   ],
   "source": [
    "print(5//2)"
   ]
  },
  {
   "cell_type": "code",
   "execution_count": 11,
   "id": "b302bd4e",
   "metadata": {},
   "outputs": [
    {
     "name": "stdout",
     "output_type": "stream",
     "text": [
      "1\n"
     ]
    }
   ],
   "source": [
    "print(5%2)"
   ]
  },
  {
   "cell_type": "code",
   "execution_count": null,
   "id": "b074ade8",
   "metadata": {},
   "outputs": [],
   "source": []
  }
 ],
 "metadata": {
  "kernelspec": {
   "display_name": "Python 3 (ipykernel)",
   "language": "python",
   "name": "python3"
  },
  "language_info": {
   "codemirror_mode": {
    "name": "ipython",
    "version": 3
   },
   "file_extension": ".py",
   "mimetype": "text/x-python",
   "name": "python",
   "nbconvert_exporter": "python",
   "pygments_lexer": "ipython3",
   "version": "3.10.9"
  }
 },
 "nbformat": 4,
 "nbformat_minor": 5
}
