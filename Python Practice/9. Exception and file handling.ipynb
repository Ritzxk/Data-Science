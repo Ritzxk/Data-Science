{
 "cells": [
  {
   "cell_type": "markdown",
   "id": "9946887f",
   "metadata": {},
   "source": [
    "# Exception"
   ]
  },
  {
   "cell_type": "markdown",
   "id": "dd1b5d2a",
   "metadata": {},
   "source": [
    "Known errors that needs to be handled"
   ]
  },
  {
   "cell_type": "code",
   "execution_count": 5,
   "id": "15eb14ab",
   "metadata": {},
   "outputs": [
    {
     "name": "stdout",
     "output_type": "stream",
     "text": [
      "Error! division by zero\n"
     ]
    }
   ],
   "source": [
    "def divide(a, b):\n",
    "    return a/b\n",
    "try:\n",
    "    ans = divide(6,0)\n",
    "    print(ans)\n",
    "except Exception as e:\n",
    "    print(f\"Error! {e}\")"
   ]
  },
  {
   "cell_type": "markdown",
   "id": "5d1a9f09",
   "metadata": {},
   "source": [
    "#### Syntax\n",
    "try:\n",
    ">\n",
    "except:\n",
    ">"
   ]
  },
  {
   "cell_type": "code",
   "execution_count": 1,
   "id": "43929eff",
   "metadata": {},
   "outputs": [
    {
     "data": {
      "text/plain": [
       "'canot divide by zero'"
      ]
     },
     "execution_count": 1,
     "metadata": {},
     "output_type": "execute_result"
    }
   ],
   "source": [
    "def divide(a,b):\n",
    "    try:\n",
    "        return a/b\n",
    "    except:\n",
    "        return \"canot divide by zero\"\n",
    "\n",
    "ans = divide(5,0)\n",
    "ans"
   ]
  },
  {
   "cell_type": "markdown",
   "id": "c1f7d536",
   "metadata": {},
   "source": [
    "# file handling"
   ]
  },
  {
   "cell_type": "markdown",
   "id": "4b2c9523",
   "metadata": {},
   "source": [
    "- open() : reading, writing, and creating\n",
    "> Two argument<br>\n",
    "> open(<file_name>,mode='r')\n",
    "- close(): closing file"
   ]
  },
  {
   "cell_type": "code",
   "execution_count": 11,
   "id": "4aaa00b4",
   "metadata": {},
   "outputs": [
    {
     "name": "stdout",
     "output_type": "stream",
     "text": [
      "This file is created by Ritesh Kumar.\n"
     ]
    }
   ],
   "source": [
    "file = open('abc.txt',mode='r')\n",
    "data = file.readline()\n",
    "print(data)\n",
    "file.close()"
   ]
  },
  {
   "cell_type": "code",
   "execution_count": 12,
   "id": "1d421245",
   "metadata": {},
   "outputs": [
    {
     "name": "stdout",
     "output_type": "stream",
     "text": [
      "This file is created by Ritesh Kumar.\n"
     ]
    }
   ],
   "source": [
    "# with open() : auto close file and better for excepton handling\n",
    "with open('abc.txt', mode='r') as file:\n",
    "    data = file.readline()\n",
    "    print(data)"
   ]
  },
  {
   "cell_type": "code",
   "execution_count": 14,
   "id": "bda645ce",
   "metadata": {},
   "outputs": [],
   "source": [
    "# creating a new file\n",
    "with open('new_file.txt', 'w') as file:\n",
    "    file.write(\"This file is created by Ritesh using with open\")"
   ]
  },
  {
   "cell_type": "code",
   "execution_count": 18,
   "id": "d2c27e6c",
   "metadata": {},
   "outputs": [],
   "source": [
    "# for writing multiple lines\n",
    "# creating a new file\n",
    "with open('new_file.txt', 'w') as file:\n",
    "    file.writelines([\"This file is created by Ritesh using with open.\", '\\nThis second line added using  writelines.'])"
   ]
  },
  {
   "cell_type": "code",
   "execution_count": 25,
   "id": "35543029",
   "metadata": {},
   "outputs": [
    {
     "name": "stdout",
     "output_type": "stream",
     "text": [
      "Error! [Errno 2] No such file or directory: 'sample/ew_file.txt'\n"
     ]
    }
   ],
   "source": [
    "# using try except to caught exception\n",
    "try:\n",
    "    with open('sample/ew_file.txt', 'a') as file:\n",
    "        file.writelines(['\\nthis is appended line','\\n second line appended'])\n",
    "except FileNotFoundError as e:\n",
    "    print('Error!', e)"
   ]
  },
  {
   "cell_type": "code",
   "execution_count": 35,
   "id": "efc5cd7a",
   "metadata": {},
   "outputs": [
    {
     "name": "stdout",
     "output_type": "stream",
     "text": [
      "no of lines in file:  2\n",
      "This file is created by Ritesh using with open.\n",
      "\n",
      "This second line added using  writelines.\n"
     ]
    }
   ],
   "source": [
    "with open('new_file.txt', 'r')as file:\n",
    "    data = file.readlines()\n",
    "\n",
    "    # checking no of lines in file\n",
    "    print(\"no of lines in file: \",len(data))\n",
    "\n",
    "    #printing file\n",
    "    for data in data:\n",
    "        print(data)"
   ]
  },
  {
   "cell_type": "markdown",
   "id": "9b029ad8",
   "metadata": {},
   "source": [
    "### Imagine you are trying to come up with a name for your new dog. You're really unsure of what you'd like to call the dog, so you decide to use your Python skills to help you decide."
   ]
  },
  {
   "cell_type": "code",
   "execution_count": 6,
   "id": "806ff270",
   "metadata": {},
   "outputs": [
    {
     "name": "stdout",
     "output_type": "stream",
     "text": [
      "Wolfie\n"
     ]
    }
   ],
   "source": [
    "# importing random library ro choose random pet name\n",
    "import random\n",
    "\n",
    "# opening file and store it in var file\n",
    "file = open('petnames.txt', 'r')\n",
    "names = file.read()\n",
    "\n",
    "# splitting pet namesusing \"\\n\" and store it it a list\n",
    "names_list = names.split(\"\\n\")\n",
    "print(random.choice(names_list))"
   ]
  },
  {
   "cell_type": "code",
   "execution_count": 4,
   "id": "051e591e",
   "metadata": {},
   "outputs": [
    {
     "data": {
      "text/plain": [
       "'Ace\\nAtlas\\nBailey\\nBear\\nBlaze\\nBoomer\\nBuddy\\nCoco\\nCooper\\nDuke\\nDozer\\nEcho\\nGizmo\\nHarley\\nMac\\nMax\\nMilo\\nOscar\\nRex\\nRocky\\nRocket\\nWolfie'"
      ]
     },
     "execution_count": 4,
     "metadata": {},
     "output_type": "execute_result"
    }
   ],
   "source": [
    "names"
   ]
  },
  {
   "cell_type": "code",
   "execution_count": 5,
   "id": "ea7ee89c",
   "metadata": {},
   "outputs": [
    {
     "data": {
      "text/plain": [
       "['Ace',\n",
       " 'Atlas',\n",
       " 'Bailey',\n",
       " 'Bear',\n",
       " 'Blaze',\n",
       " 'Boomer',\n",
       " 'Buddy',\n",
       " 'Coco',\n",
       " 'Cooper',\n",
       " 'Duke',\n",
       " 'Dozer',\n",
       " 'Echo',\n",
       " 'Gizmo',\n",
       " 'Harley',\n",
       " 'Mac',\n",
       " 'Max',\n",
       " 'Milo',\n",
       " 'Oscar',\n",
       " 'Rex',\n",
       " 'Rocky',\n",
       " 'Rocket',\n",
       " 'Wolfie']"
      ]
     },
     "execution_count": 5,
     "metadata": {},
     "output_type": "execute_result"
    }
   ],
   "source": [
    "names_list"
   ]
  },
  {
   "cell_type": "code",
   "execution_count": null,
   "id": "ef3d47c3",
   "metadata": {},
   "outputs": [],
   "source": []
  }
 ],
 "metadata": {
  "kernelspec": {
   "display_name": "Python 3 (ipykernel)",
   "language": "python",
   "name": "python3"
  },
  "language_info": {
   "codemirror_mode": {
    "name": "ipython",
    "version": 3
   },
   "file_extension": ".py",
   "mimetype": "text/x-python",
   "name": "python",
   "nbconvert_exporter": "python",
   "pygments_lexer": "ipython3",
   "version": "3.10.9"
  }
 },
 "nbformat": 4,
 "nbformat_minor": 5
}
