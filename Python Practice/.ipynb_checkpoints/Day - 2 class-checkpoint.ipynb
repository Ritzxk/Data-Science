{
 "cells": [
  {
   "cell_type": "code",
   "execution_count": null,
   "id": "26c343c2",
   "metadata": {},
   "outputs": [],
   "source": []
  },
  {
   "cell_type": "code",
   "execution_count": 1,
   "id": "66608ac4",
   "metadata": {},
   "outputs": [],
   "source": [
    "# child needs 150 nutrients in a day \n",
    "# child is onlu getting 100\n",
    "# child is having 50 less nutrinets in a day --> build a program and notification"
   ]
  },
  {
   "cell_type": "code",
   "execution_count": 2,
   "id": "eb676e5d",
   "metadata": {},
   "outputs": [],
   "source": [
    "# DEclaring variables name, age, gender, height and weight.\n",
    "# BMI formula -> bmi = weight/(height)**2\n",
    "# age -> there are conditions on age on the basis calorie requirement changes\n",
    "# collecing quantites and respective amount \n",
    "# we calculate their calorie quantity / amount -> 4 items 50g -> 850 calories and age group is 3"
   ]
  },
  {
   "cell_type": "code",
   "execution_count": 5,
   "id": "5ab48780",
   "metadata": {},
   "outputs": [],
   "source": [
    "## string"
   ]
  },
  {
   "cell_type": "code",
   "execution_count": 6,
   "id": "472c1e4c",
   "metadata": {},
   "outputs": [
    {
     "name": "stdout",
     "output_type": "stream",
     "text": [
      "student number 1\n",
      "enter your name here ritz\n",
      "enter your age22\n",
      "enter your gendermale\n",
      "enter your weight76\n",
      "enter your height6\n",
      "student number 2\n",
      "enter your name here sid\n",
      "enter your age21\n",
      "enter your gendermale\n",
      "enter your weight70\n",
      "enter your height6\n"
     ]
    }
   ],
   "source": [
    "array = []\n",
    "for i in range(0,2,1):\n",
    "    print(\"student number\", i+1)\n",
    "    name = input(\"enter your name here \")\n",
    "    age = int(input(\"enter your age\"))\n",
    "    gender = input(\"enter your gender\")\n",
    "    weight = float(input(\"enter your weight\"))\n",
    "    height = float(input(\"enter your height\"))\n",
    "    array.append([name,age,gender,weight,height])"
   ]
  },
  {
   "cell_type": "code",
   "execution_count": 7,
   "id": "5fbad3e6",
   "metadata": {},
   "outputs": [
    {
     "data": {
      "text/plain": [
       "[['ritz', 22, 'male', 76.0, 6.0], ['sid', 21, 'male', 70.0, 6.0]]"
      ]
     },
     "execution_count": 7,
     "metadata": {},
     "output_type": "execute_result"
    }
   ],
   "source": [
    "array"
   ]
  },
  {
   "cell_type": "code",
   "execution_count": 8,
   "id": "61d33a3f",
   "metadata": {},
   "outputs": [
    {
     "name": "stdout",
     "output_type": "stream",
     "text": [
      "2.111111111111111\n",
      "1.9444444444444444\n"
     ]
    }
   ],
   "source": [
    "for i in array:\n",
    "    print(i[3]/(i[4]**2))\n",
    "    "
   ]
  },
  {
   "cell_type": "code",
   "execution_count": 9,
   "id": "ef4958ac",
   "metadata": {},
   "outputs": [
    {
     "ename": "SyntaxError",
     "evalue": "invalid syntax (<ipython-input-9-a02e1c90c098>, line 1)",
     "output_type": "error",
     "traceback": [
      "\u001b[1;36m  File \u001b[1;32m\"<ipython-input-9-a02e1c90c098>\"\u001b[1;36m, line \u001b[1;32m1\u001b[0m\n\u001b[1;33m    if age<2 d age>0\u001b[0m\n\u001b[1;37m             ^\u001b[0m\n\u001b[1;31mSyntaxError\u001b[0m\u001b[1;31m:\u001b[0m invalid syntax\n"
     ]
    }
   ],
   "source": [
    "if age<2 d age>0\n",
    "    min_cal = 700\n",
    "    "
   ]
  },
  {
   "cell_type": "code",
   "execution_count": null,
   "id": "856ff24f",
   "metadata": {},
   "outputs": [],
   "source": []
  },
  {
   "cell_type": "code",
   "execution_count": null,
   "id": "371e3af2",
   "metadata": {},
   "outputs": [],
   "source": []
  },
  {
   "cell_type": "code",
   "execution_count": null,
   "id": "43321d28",
   "metadata": {},
   "outputs": [],
   "source": []
  },
  {
   "cell_type": "code",
   "execution_count": null,
   "id": "cee39d3a",
   "metadata": {},
   "outputs": [],
   "source": []
  },
  {
   "cell_type": "code",
   "execution_count": null,
   "id": "6b204d16",
   "metadata": {},
   "outputs": [],
   "source": []
  }
 ],
 "metadata": {
  "kernelspec": {
   "display_name": "Python 3 (ipykernel)",
   "language": "python",
   "name": "python3"
  },
  "language_info": {
   "codemirror_mode": {
    "name": "ipython",
    "version": 3
   },
   "file_extension": ".py",
   "mimetype": "text/x-python",
   "name": "python",
   "nbconvert_exporter": "python",
   "pygments_lexer": "ipython3",
   "version": "3.11.3"
  }
 },
 "nbformat": 4,
 "nbformat_minor": 5
}
