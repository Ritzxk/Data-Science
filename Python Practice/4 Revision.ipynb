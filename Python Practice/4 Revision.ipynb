{
 "cells": [
  {
   "cell_type": "code",
   "execution_count": 4,
   "id": "56d405ed",
   "metadata": {},
   "outputs": [
    {
     "name": "stdout",
     "output_type": "stream",
     "text": [
      "11\n"
     ]
    }
   ],
   "source": [
    "# in single line identation \n",
    "x = 5 +   6\n",
    "+7\n",
    "print(x)"
   ]
  },
  {
   "cell_type": "markdown",
   "id": "3c005f3c",
   "metadata": {},
   "source": [
    "here python not considering +7 in x"
   ]
  },
  {
   "cell_type": "code",
   "execution_count": 5,
   "id": "ee00a4a2",
   "metadata": {},
   "outputs": [
    {
     "name": "stdout",
     "output_type": "stream",
     "text": [
      "18\n"
     ]
    }
   ],
   "source": [
    "x = 5   +   6   \\\n",
    "+7\n",
    "print(x)"
   ]
  },
  {
   "cell_type": "markdown",
   "id": "6ec1507e",
   "metadata": {},
   "source": [
    "# assaigning values to variable"
   ]
  },
  {
   "cell_type": "code",
   "execution_count": 6,
   "id": "e2a97061",
   "metadata": {},
   "outputs": [
    {
     "name": "stdout",
     "output_type": "stream",
     "text": [
      "10 10 10\n"
     ]
    }
   ],
   "source": [
    "a=b=c=10\n",
    "print(a,b,c)"
   ]
  },
  {
   "cell_type": "code",
   "execution_count": 8,
   "id": "61b377d0",
   "metadata": {},
   "outputs": [
    {
     "name": "stdout",
     "output_type": "stream",
     "text": [
      "23 3 6\n"
     ]
    }
   ],
   "source": [
    "a,b,c= 23,3,6\n",
    "print(a,b,c)"
   ]
  },
  {
   "cell_type": "code",
   "execution_count": 9,
   "id": "90b291c4",
   "metadata": {},
   "outputs": [
    {
     "name": "stdout",
     "output_type": "stream",
     "text": [
      "23\n"
     ]
    }
   ],
   "source": [
    "print(a)"
   ]
  },
  {
   "cell_type": "code",
   "execution_count": 10,
   "id": "807679ef",
   "metadata": {},
   "outputs": [],
   "source": [
    "del(a)"
   ]
  },
  {
   "cell_type": "code",
   "execution_count": 12,
   "id": "3b5fb13b",
   "metadata": {},
   "outputs": [
    {
     "ename": "NameError",
     "evalue": "name 'a' is not defined",
     "output_type": "error",
     "traceback": [
      "\u001b[1;31m---------------------------------------------------------------------------\u001b[0m",
      "\u001b[1;31mNameError\u001b[0m                                 Traceback (most recent call last)",
      "Cell \u001b[1;32mIn[12], line 1\u001b[0m\n\u001b[1;32m----> 1\u001b[0m \u001b[38;5;28mprint\u001b[39m(\u001b[43ma\u001b[49m)\n",
      "\u001b[1;31mNameError\u001b[0m: name 'a' is not defined"
     ]
    }
   ],
   "source": [
    "print(a)"
   ]
  },
  {
   "cell_type": "markdown",
   "id": "f30c7ef8",
   "metadata": {},
   "source": [
    "# Literals"
   ]
  },
  {
   "cell_type": "markdown",
   "id": "cb9eb0be",
   "metadata": {},
   "source": [
    "In Python, a literal is a notation used to represent a fixed value in source code. Python supports several types of literals, including:\n",
    "\n",
    "- Numeric literals: These are used to represent numeric values such as integers, floating-point numbers, and complex numbers. For example:\n",
    "\n",
    ">>> - Integers: 42, -123, 0b1010 (binary), 0o52 (octal), 0x2a (hexadecimal)\n",
    "Floating-point numbers: 3.14, -1.23e-5\n",
    ">>> - Complex numbers: 1 + 2j, 3 - 4j\n",
    "- String literals: These are used to represent strings of characters. String literals can be enclosed in single quotes (') or double quotes (\"). For example:\n",
    "\n",
    ">>>'Hello, world!'\n",
    ">>>\"Python's string literals\"\n",
    ">>>Boolean literals: These are used to represent the truth values True and >>>False.\n",
    "\n",
    "- None literal: This is used to represent the null or undefined value and is denoted by the keyword None.\n",
    "\n",
    "- Literal collections: These are used to represent collections of values, such as lists, tuples, and dictionaries. For example:\n",
    "\n",
    ">>>Lists: [1, 2, 3]\n",
    ">>>Tuples: (1, 'two', 3.0)\n",
    ">>>Dictionaries: {'key1': 'value1', 'key2': 'value2'}\n",
    "Literal values are typically assigned to variables or used as arguments to functions and operators in Python programs."
   ]
  },
  {
   "cell_type": "markdown",
   "id": "d5f67f01",
   "metadata": {},
   "source": [
    "# Data types"
   ]
  },
  {
   "cell_type": "markdown",
   "id": "cf75650e",
   "metadata": {},
   "source": [
    "- Python literals are quantities/ notations whose value does not change during the execution of a program.\n",
    "- Literals in Python is defined as the raw data assigned to variables or constants while programming."
   ]
  },
  {
   "cell_type": "markdown",
   "id": "1fb57b07",
   "metadata": {},
   "source": [
    "## 1 string"
   ]
  },
  {
   "cell_type": "code",
   "execution_count": 2,
   "id": "6681448d",
   "metadata": {},
   "outputs": [
    {
     "name": "stdout",
     "output_type": "stream",
     "text": [
      "My name is ritesh\n",
      "I am a Hero\n"
     ]
    }
   ],
   "source": [
    "# single line string literal\n",
    "string = 'My name is ritesh'\n",
    "str1 = \"I am a Hero\"\n",
    "print(string)\n",
    "print(str1)"
   ]
  },
  {
   "cell_type": "code",
   "execution_count": 4,
   "id": "ae4d97b2",
   "metadata": {},
   "outputs": [
    {
     "name": "stdout",
     "output_type": "stream",
     "text": [
      "my name is Ritesh\n"
     ]
    }
   ],
   "source": [
    "# multi line string literal\n",
    "# to print multiple line in single line\n",
    "s1 = 'my \\\n",
    "name \\\n",
    "is \\\n",
    "Ritesh'\n",
    "print(s1)"
   ]
  },
  {
   "cell_type": "code",
   "execution_count": 5,
   "id": "a1b3822a",
   "metadata": {},
   "outputs": [
    {
     "name": "stdout",
     "output_type": "stream",
     "text": [
      "My name is \n",
      "Ritesh\n",
      "Kumar\n"
     ]
    }
   ],
   "source": [
    "# to print multiple in as it is\n",
    "s2 = '''My name is \n",
    "Ritesh\n",
    "Kumar'''\n",
    "print(s2)"
   ]
  },
  {
   "cell_type": "markdown",
   "id": "df2eb4b0",
   "metadata": {},
   "source": [
    "# 2 Numeric"
   ]
  },
  {
   "cell_type": "markdown",
   "id": "f91d87f8",
   "metadata": {},
   "source": [
    "Numerical literals in Python are those literals that contain digits only and are immutable."
   ]
  },
  {
   "cell_type": "code",
   "execution_count": 10,
   "id": "aee56f7f",
   "metadata": {},
   "outputs": [
    {
     "name": "stdout",
     "output_type": "stream",
     "text": [
      "456\n"
     ]
    },
    {
     "data": {
      "text/plain": [
       "int"
      ]
     },
     "execution_count": 10,
     "metadata": {},
     "output_type": "execute_result"
    }
   ],
   "source": [
    "# int literals\n",
    "x = 456\n",
    "print(x)\n",
    "type(x)"
   ]
  },
  {
   "cell_type": "code",
   "execution_count": 11,
   "id": "14f0bd6a",
   "metadata": {
    "scrolled": true
   },
   "outputs": [
    {
     "name": "stdout",
     "output_type": "stream",
     "text": [
      "45.678\n"
     ]
    }
   ],
   "source": [
    "# float literals\n",
    "x = 45.678\n",
    "print(x)"
   ]
  },
  {
   "cell_type": "code",
   "execution_count": 12,
   "id": "ba1bed08",
   "metadata": {},
   "outputs": [
    {
     "data": {
      "text/plain": [
       "float"
      ]
     },
     "execution_count": 12,
     "metadata": {},
     "output_type": "execute_result"
    }
   ],
   "source": [
    "type(x)"
   ]
  },
  {
   "cell_type": "code",
   "execution_count": 15,
   "id": "39efed84",
   "metadata": {},
   "outputs": [
    {
     "name": "stdout",
     "output_type": "stream",
     "text": [
      "(7+8j)\n"
     ]
    }
   ],
   "source": [
    "# complex literals\n",
    "a = 7 + 8j\n",
    "print(a)"
   ]
  },
  {
   "cell_type": "code",
   "execution_count": 16,
   "id": "6fdb77d8",
   "metadata": {},
   "outputs": [
    {
     "data": {
      "text/plain": [
       "complex"
      ]
     },
     "execution_count": 16,
     "metadata": {},
     "output_type": "execute_result"
    }
   ],
   "source": [
    "type(a)"
   ]
  },
  {
   "cell_type": "markdown",
   "id": "d3480d80",
   "metadata": {},
   "source": [
    "# 3 Boolean "
   ]
  },
  {
   "cell_type": "code",
   "execution_count": 40,
   "id": "d9f65657",
   "metadata": {},
   "outputs": [],
   "source": [
    "x =(1==2)\n",
    "y = (False == False)"
   ]
  },
  {
   "cell_type": "code",
   "execution_count": 41,
   "id": "6aaa5f3a",
   "metadata": {},
   "outputs": [
    {
     "name": "stdout",
     "output_type": "stream",
     "text": [
      "False True\n"
     ]
    }
   ],
   "source": [
    "print(x,y)"
   ]
  },
  {
   "cell_type": "markdown",
   "id": "f132f0ae",
   "metadata": {},
   "source": [
    "# 4 None "
   ]
  },
  {
   "cell_type": "code",
   "execution_count": 42,
   "id": "9fc63150",
   "metadata": {},
   "outputs": [
    {
     "name": "stdout",
     "output_type": "stream",
     "text": [
      "None\n"
     ]
    }
   ],
   "source": [
    "# This literal in Python is used to signify that a particular field is not created.\n",
    "val = None\n",
    "print(val)"
   ]
  },
  {
   "cell_type": "markdown",
   "id": "0cb9ef2d",
   "metadata": {},
   "source": [
    "# 5 Literal Collections"
   ]
  },
  {
   "cell_type": "markdown",
   "id": "b9568fde",
   "metadata": {},
   "source": [
    "### List"
   ]
  },
  {
   "cell_type": "markdown",
   "id": "5e2809a1",
   "metadata": {},
   "source": [
    "Lists are a collection of data declared using the square brackets([]), and commas separate the elements of the list (,). This data can be of different types. Another important thing to know about lists is that they are **mutable.**"
   ]
  },
  {
   "cell_type": "code",
   "execution_count": 46,
   "id": "c5db328f",
   "metadata": {},
   "outputs": [
    {
     "name": "stdout",
     "output_type": "stream",
     "text": [
      "numbers list:  [10, 20, 30, 40, 50]\n",
      "names list :  ['John', 'Jake', 'Jason', 25]\n"
     ]
    }
   ],
   "source": [
    "# list literals\n",
    "numbers = [10, 20, 30, 40, 50]\n",
    "names = ['John', 'Jake', 'Jason', 25]\n",
    "print(\"numbers list: \",numbers)\n",
    "print(\"names list : \",names)"
   ]
  },
  {
   "cell_type": "markdown",
   "id": "4891b1e7",
   "metadata": {},
   "source": [
    "### Tuple"
   ]
  },
  {
   "cell_type": "markdown",
   "id": "cdbf5c91",
   "metadata": {},
   "source": [
    "The literals that are declared using round brackets and can hold any data type are tuples. Commas separate the elements of tuples. However, unlike lists, tuples are **immutable**."
   ]
  },
  {
   "cell_type": "code",
   "execution_count": 49,
   "id": "40b69f50",
   "metadata": {},
   "outputs": [
    {
     "name": "stdout",
     "output_type": "stream",
     "text": [
      "even_numbers : (2, 4, 6, 8)\n",
      "vowels:  ('a', 'e', 'i', 'o', 'u')\n"
     ]
    }
   ],
   "source": [
    "# tuple literals\n",
    "even_numbers = (2, 4, 6, 8)\n",
    "vowels=('a','e','i','o','u')  \n",
    "print(\"even_numbers :\",even_numbers)\n",
    "print(\"vowels: \",vowels)"
   ]
  },
  {
   "cell_type": "markdown",
   "id": "d338575f",
   "metadata": {},
   "source": [
    "### Dictionery"
   ]
  },
  {
   "cell_type": "markdown",
   "id": "9fb3aa7e",
   "metadata": {},
   "source": [
    "Dictionary is a collection of data that stores value in a key-value format. These are enclosed in curly brackets and separated by commas. Dictionaries are **mutable** and can also contain different types of data."
   ]
  },
  {
   "cell_type": "code",
   "execution_count": 50,
   "id": "49d02807",
   "metadata": {},
   "outputs": [
    {
     "name": "stdout",
     "output_type": "stream",
     "text": [
      "{'a': 'apple', 'b': 'bat', 'c': 'car'}\n"
     ]
    }
   ],
   "source": [
    "# dictionary literals\n",
    "my_dict = {'a': 'apple', 'b': 'bat', 'c': 'car'}\n",
    "print(my_dict)"
   ]
  },
  {
   "cell_type": "markdown",
   "id": "f94a680a",
   "metadata": {},
   "source": [
    "### set"
   ]
  },
  {
   "cell_type": "markdown",
   "id": "3f77f433",
   "metadata": {},
   "source": [
    "Set literals are a collection of **unordered data that cannot be modified.** It is enclosed within curly brackets and separated by commas."
   ]
  },
  {
   "cell_type": "code",
   "execution_count": 51,
   "id": "eb44e741",
   "metadata": {},
   "outputs": [
    {
     "name": "stdout",
     "output_type": "stream",
     "text": [
      "{'o', 'i', 'a', 'u', 'e'}\n"
     ]
    }
   ],
   "source": [
    "#set literals\n",
    "vowels = {'a', 'e', 'i', 'o', 'u'}\n",
    "print(vowels)"
   ]
  },
  {
   "cell_type": "markdown",
   "id": "0d7b267b",
   "metadata": {},
   "source": [
    "# Type(Var) --> data type of var"
   ]
  },
  {
   "cell_type": "code",
   "execution_count": 52,
   "id": "99459128",
   "metadata": {},
   "outputs": [
    {
     "data": {
      "text/plain": [
       "set"
      ]
     },
     "execution_count": 52,
     "metadata": {},
     "output_type": "execute_result"
    }
   ],
   "source": [
    "type(vowels)"
   ]
  },
  {
   "cell_type": "code",
   "execution_count": 53,
   "id": "6dc75464",
   "metadata": {},
   "outputs": [
    {
     "data": {
      "text/plain": [
       "dict"
      ]
     },
     "execution_count": 53,
     "metadata": {},
     "output_type": "execute_result"
    }
   ],
   "source": [
    "type(my_dict)"
   ]
  },
  {
   "cell_type": "code",
   "execution_count": 55,
   "id": "3c9ccbe3",
   "metadata": {},
   "outputs": [
    {
     "name": "stdout",
     "output_type": "stream",
     "text": [
      "<class 'list'>\n"
     ]
    }
   ],
   "source": [
    "print(type([1,4,5,6,7]))"
   ]
  },
  {
   "cell_type": "code",
   "execution_count": null,
   "id": "1193b371",
   "metadata": {},
   "outputs": [],
   "source": []
  }
 ],
 "metadata": {
  "kernelspec": {
   "display_name": "Python 3 (ipykernel)",
   "language": "python",
   "name": "python3"
  },
  "language_info": {
   "codemirror_mode": {
    "name": "ipython",
    "version": 3
   },
   "file_extension": ".py",
   "mimetype": "text/x-python",
   "name": "python",
   "nbconvert_exporter": "python",
   "pygments_lexer": "ipython3",
   "version": "3.10.9"
  }
 },
 "nbformat": 4,
 "nbformat_minor": 5
}
