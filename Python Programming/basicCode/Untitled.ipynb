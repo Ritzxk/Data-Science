{
 "cells": [
  {
   "cell_type": "code",
   "execution_count": 13,
   "id": "539ab85a",
   "metadata": {},
   "outputs": [
    {
     "name": "stdout",
     "output_type": "stream",
     "text": [
      "123\n",
      "321\n"
     ]
    }
   ],
   "source": [
    "#take input of the number here\n",
    "n = int(input())\n",
    "\n",
    "\n",
    "#write code to reverse the number here\n",
    "def reverse(n):\n",
    "    temp = n\n",
    "    num = 0\n",
    "    while temp > 0:\n",
    "        ld = temp % 10\n",
    "        num = num * 10 +ld\n",
    "        temp = temp // 10\n",
    "    return num\n",
    "    \n",
    "print(reverse(n))"
   ]
  },
  {
   "cell_type": "code",
   "execution_count": 5,
   "id": "2e39e942",
   "metadata": {},
   "outputs": [
    {
     "name": "stdout",
     "output_type": "stream",
     "text": [
      "3,1\n"
     ]
    },
    {
     "data": {
      "text/plain": [
       "4"
      ]
     },
     "execution_count": 5,
     "metadata": {},
     "output_type": "execute_result"
    }
   ],
   "source": [
    "#take input here\n",
    "import ast \n",
    "inp = input()\n",
    "inp_list = ast.literal_eval(inp)\n",
    "\n",
    "m = inp_list[0]\n",
    "c = inp_list[1]\n",
    "\n",
    "#start writing your code here\n",
    "def chocolates(m,c):\n",
    "    t = m //c\n",
    "    w  = t\n",
    "    while w//3 != 0:\n",
    "        t = t + w //3\n",
    "        w = w // 3 + w % 3\n",
    "    \n",
    "    return t\n",
    "\n",
    "chocolates(m,c)"
   ]
  },
  {
   "cell_type": "code",
   "execution_count": 6,
   "id": "b8cfc036",
   "metadata": {},
   "outputs": [
    {
     "name": "stdout",
     "output_type": "stream",
     "text": [
      "5\n",
      "    *\n",
      "   *_*\n",
      "  *_*_*\n",
      " *_*_*_*\n",
      "*_*_*_*_*\n"
     ]
    }
   ],
   "source": [
    "#please take input here\n",
    "n = int(input())\n",
    "\n",
    "#start writing your code here\n",
    "\n",
    "for i in range(1, n+1):\n",
    "    for j in range(n-i):\n",
    "        print(' ', end='')\n",
    "    for k in range(i-1):\n",
    "        print('*_',end= '')\n",
    "    print('*')"
   ]
  },
  {
   "cell_type": "code",
   "execution_count": 8,
   "id": "5585a241",
   "metadata": {},
   "outputs": [
    {
     "name": "stdout",
     "output_type": "stream",
     "text": [
      "None\n"
     ]
    }
   ],
   "source": [
    "def fib(n):\n",
    "    if n == 0:\n",
    "        return 0\n",
    "    if n == 1:\n",
    "        return 1\n",
    "    for i in range(2,n):\n",
    "        return (i-1)+(i-2)\n",
    "print(fib(2))"
   ]
  },
  {
   "cell_type": "code",
   "execution_count": 31,
   "id": "da4f6e45",
   "metadata": {},
   "outputs": [
    {
     "name": "stdout",
     "output_type": "stream",
     "text": [
      "5\n",
      "10\n"
     ]
    }
   ],
   "source": [
    "n = int(input())\n",
    "\n",
    "def isPrime(n):\n",
    "    if n <= 1:\n",
    "        return False\n",
    "    for i in range(2,n):\n",
    "        if n % i == 0:\n",
    "            return False\n",
    "    return True\n",
    "sum = 0\n",
    "for i in range(n+1):\n",
    "    if isPrime(i):\n",
    "        sum += i\n",
    "print(sum)"
   ]
  },
  {
   "cell_type": "code",
   "execution_count": 40,
   "id": "6e6c2658",
   "metadata": {},
   "outputs": [
    {
     "data": {
      "text/plain": [
       "[1, -3, 0, 7, 21]"
      ]
     },
     "execution_count": 40,
     "metadata": {},
     "output_type": "execute_result"
    }
   ],
   "source": [
    "l = [1,-3,0,7,21]\n",
    "l"
   ]
  },
  {
   "cell_type": "code",
   "execution_count": 46,
   "id": "8b6cf41f",
   "metadata": {},
   "outputs": [
    {
     "data": {
      "text/plain": [
       "[1, -3, 0, 7, 21]"
      ]
     },
     "execution_count": 46,
     "metadata": {},
     "output_type": "execute_result"
    }
   ],
   "source": [
    "l"
   ]
  },
  {
   "cell_type": "code",
   "execution_count": 48,
   "id": "1e1c4c75",
   "metadata": {},
   "outputs": [
    {
     "data": {
      "text/plain": [
       "True"
      ]
     },
     "execution_count": 48,
     "metadata": {},
     "output_type": "execute_result"
    }
   ],
   "source": [
    "min(l)"
   ]
  },
  {
   "cell_type": "code",
   "execution_count": null,
   "id": "185ac877",
   "metadata": {},
   "outputs": [],
   "source": [
    "[10,20,30,40,50]\n",
    "\n",
    "[30,60,80,40]"
   ]
  },
  {
   "cell_type": "code",
   "execution_count": null,
   "id": "0eeff367",
   "metadata": {},
   "outputs": [],
   "source": []
  },
  {
   "cell_type": "code",
   "execution_count": 50,
   "id": "fc0258ba",
   "metadata": {},
   "outputs": [
    {
     "name": "stdout",
     "output_type": "stream",
     "text": [
      "[10,20,30,40,50]\n",
      "[30,60,80,40]\n",
      "[10, 20, 30, 40, 50, 60, 80, 40]\n"
     ]
    }
   ],
   "source": [
    "import ast \n",
    "cur_emp = ast.literal_eval(input())\n",
    "app_score = ast.literal_eval(input())\n",
    "def max_mean(cur_emp, app_score):\n",
    "    sum = 0\n",
    "    for score in cur_emp:\n",
    "        sum += score\n",
    "    avg = sum / len(cur_emp)\n",
    "    for score in app_score:\n",
    "        if score > avg:\n",
    "            cur_emp.append(score)\n",
    "    return cur_emp\n",
    "\n",
    "#write your code here\n",
    "print(max_mean(cur_emp,app_score))"
   ]
  },
  {
   "cell_type": "code",
   "execution_count": null,
   "id": "7aab46f3",
   "metadata": {},
   "outputs": [],
   "source": []
  }
 ],
 "metadata": {
  "kernelspec": {
   "display_name": "Python 3 (ipykernel)",
   "language": "python",
   "name": "python3"
  },
  "language_info": {
   "codemirror_mode": {
    "name": "ipython",
    "version": 3
   },
   "file_extension": ".py",
   "mimetype": "text/x-python",
   "name": "python",
   "nbconvert_exporter": "python",
   "pygments_lexer": "ipython3",
   "version": "3.10.9"
  }
 },
 "nbformat": 4,
 "nbformat_minor": 5
}
