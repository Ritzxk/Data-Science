{
 "cells": [
  {
   "cell_type": "markdown",
   "metadata": {},
   "source": [
    "#### 1. swapping of two number"
   ]
  },
  {
   "cell_type": "code",
   "execution_count": 4,
   "metadata": {},
   "outputs": [
    {
     "name": "stdout",
     "output_type": "stream",
     "text": [
      "value of x before swpping : 45\n",
      "value of y before swpping : 67\n",
      "x after swapping: 67\n",
      "y after swapping : 45\n"
     ]
    }
   ],
   "source": [
    "# swap two number given in a string seperated by comma\n",
    "inp_str = input()\n",
    "inp_list = inp_str.split(',')\n",
    "\n",
    "# assaigning number to x and y\n",
    "x = int(inp_list[0])\n",
    "y = int(inp_list[1])\n",
    "\n",
    "# printing values before swapping\n",
    "print(f'value of x before swpping : {x}')\n",
    "print(f'value of y before swpping : {y}')\n",
    "\n",
    "# swapping values of x and y\n",
    "temp = x\n",
    "x = y\n",
    "y = temp\n",
    "\n",
    "# printing values after swapping\n",
    "print(f'x after swapping: {x}')\n",
    "print(f'y after swapping : {y}')\n",
    "\n"
   ]
  },
  {
   "cell_type": "markdown",
   "metadata": {},
   "source": [
    "### 2. odd or even"
   ]
  },
  {
   "cell_type": "code",
   "execution_count": 15,
   "metadata": {},
   "outputs": [
    {
     "name": "stdout",
     "output_type": "stream",
     "text": [
      "odd\n"
     ]
    }
   ],
   "source": [
    "# checking whether a number is odd or even\n",
    "n = int(input())\n",
    "if n % 2 == 0:\n",
    "    print('even')\n",
    "else:\n",
    "    print('odd')"
   ]
  },
  {
   "cell_type": "markdown",
   "metadata": {},
   "source": [
    "### 3. alarm"
   ]
  },
  {
   "cell_type": "code",
   "execution_count": 21,
   "metadata": {},
   "outputs": [
    {
     "name": "stdout",
     "output_type": "stream",
     "text": [
      "7:00 am\n"
     ]
    }
   ],
   "source": [
    "# The input will be a list of two elements. The first element will be an integer from 1 to 7, and the second element will be a boolean value.\n",
    "import ast\n",
    "inp_str = input()\n",
    "inp_list = ast.literal_eval(inp_str)\n",
    "\n",
    "dow = inp_list[0]\n",
    "vacation = inp_list[1]\n",
    "\n",
    "def alarm(dow, vacation):\n",
    "    weekend = [6,7]\n",
    "    if vacation:\n",
    "        if dow in weekend:\n",
    "            return 'off'\n",
    "        else:\n",
    "            return '10:00 am'\n",
    "    else:\n",
    "        if dow not in weekend:\n",
    "            return '7:00 am'\n",
    "        else:\n",
    "            return '10:00 am'\n",
    "print(alarm(dow, vacation))\n"
   ]
  },
  {
   "cell_type": "markdown",
   "metadata": {},
   "source": [
    "### 4. factorial"
   ]
  },
  {
   "cell_type": "code",
   "execution_count": 37,
   "metadata": {},
   "outputs": [
    {
     "name": "stdout",
     "output_type": "stream",
     "text": [
      "-1\n"
     ]
    }
   ],
   "source": [
    "n = int(input(\"number: \"))\n",
    "\n",
    "def factorial(n):\n",
    "    if n < 0:\n",
    "        return -1\n",
    "    if n <= 1:\n",
    "        return 1\n",
    "    else:\n",
    "        fact = 1\n",
    "        for i in range(2,n+1):\n",
    "            fact *= i\n",
    "        return fact\n",
    "\n",
    "print(factorial(n))"
   ]
  },
  {
   "cell_type": "code",
   "execution_count": 35,
   "metadata": {},
   "outputs": [
    {
     "name": "stdout",
     "output_type": "stream",
     "text": [
      "1 X 2 X 3 X 4 X 5 X "
     ]
    }
   ],
   "source": []
  },
  {
   "cell_type": "code",
   "execution_count": null,
   "metadata": {},
   "outputs": [],
   "source": []
  }
 ],
 "metadata": {
  "kernelspec": {
   "display_name": "Python 3 (ipykernel)",
   "language": "python",
   "name": "python3"
  },
  "language_info": {
   "codemirror_mode": {
    "name": "ipython",
    "version": 3
   },
   "file_extension": ".py",
   "mimetype": "text/x-python",
   "name": "python",
   "nbconvert_exporter": "python",
   "pygments_lexer": "ipython3",
   "version": "3.10.9"
  }
 },
 "nbformat": 4,
 "nbformat_minor": 2
}
