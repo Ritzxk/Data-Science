{
 "cells": [
  {
   "cell_type": "markdown",
   "id": "889ea90e",
   "metadata": {},
   "source": [
    "### Python OOPs"
   ]
  },
  {
   "cell_type": "markdown",
   "id": "80dfd0d1",
   "metadata": {},
   "source": [
    "Class: It is blueprint for creating instance<br>\n",
    "Each object created using class is instance of htat class."
   ]
  },
  {
   "cell_type": "code",
   "execution_count": 3,
   "id": "d95ad826",
   "metadata": {},
   "outputs": [
    {
     "name": "stdout",
     "output_type": "stream",
     "text": [
      "<__main__.Employee object at 0x000001FAF8E6D2D0>\n",
      "<__main__.Employee object at 0x000001FAF8E6DED0>\n",
      "50000\n"
     ]
    }
   ],
   "source": [
    "class Employee:\n",
    "    pass\n",
    "emp_1 = Employee()\n",
    "emp_2 = Employee()\n",
    "print(emp_1)\n",
    "print(emp_2)\n",
    "\n",
    "emp_1.first = \"Ritesh\"\n",
    "emp_2.last = \"Kumar\"\n",
    "emp_1.email = \"ritz@gmail.com\"\n",
    "emp_1.salary = 50000\n",
    "\n",
    "print(emp_1.salary)"
   ]
  },
  {
   "cell_type": "code",
   "execution_count": 4,
   "id": "e900e6de",
   "metadata": {},
   "outputs": [
    {
     "data": {
      "text/plain": [
       "int"
      ]
     },
     "execution_count": 4,
     "metadata": {},
     "output_type": "execute_result"
    }
   ],
   "source": [
    "a = 5\n",
    "type(a)"
   ]
  },
  {
   "cell_type": "code",
   "execution_count": 67,
   "id": "8acabe36",
   "metadata": {},
   "outputs": [
    {
     "name": "stdout",
     "output_type": "stream",
     "text": [
      "Ritesh Kumar\n",
      "Priya Maurya\n"
     ]
    }
   ],
   "source": [
    "class Employee1:\n",
    "    def __init__(self, first, last, pay):  # 'self' is instance 'first','last,'pay' are arguments        \n",
    "        self.first = first\n",
    "        self.last = last\n",
    "        self.pay = pay\n",
    "        self.email = first + '_' + last +'@company.com'\n",
    "        \n",
    "    def fullname(self):\n",
    "        return '{} {}'.format(self.first, self.last)\n",
    "        \n",
    "emp1 = Employee1(\"Ritesh\", \"Kumar\", 50000)\n",
    "emp2 = Employee1('Priya', \"Maurya\", 45000)\n",
    "\n",
    "# printing fullname of emp1 using method\n",
    "print(emp1.fullname())\n",
    "\n",
    "# printing fullname of emp2 using class name, method and argument\n",
    "print(Employee1.fullname(emp2))"
   ]
  },
  {
   "cell_type": "code",
   "execution_count": null,
   "id": "a0d907e4",
   "metadata": {},
   "outputs": [],
   "source": []
  },
  {
   "cell_type": "code",
   "execution_count": null,
   "id": "9a677723",
   "metadata": {},
   "outputs": [],
   "source": []
  },
  {
   "cell_type": "code",
   "execution_count": null,
   "id": "a5609530",
   "metadata": {},
   "outputs": [],
   "source": []
  },
  {
   "cell_type": "code",
   "execution_count": null,
   "id": "073a2fd8",
   "metadata": {},
   "outputs": [],
   "source": []
  },
  {
   "cell_type": "code",
   "execution_count": null,
   "id": "c38dc57b",
   "metadata": {},
   "outputs": [],
   "source": []
  },
  {
   "cell_type": "code",
   "execution_count": null,
   "id": "add90075",
   "metadata": {},
   "outputs": [],
   "source": []
  },
  {
   "cell_type": "code",
   "execution_count": null,
   "id": "7301a080",
   "metadata": {},
   "outputs": [],
   "source": []
  },
  {
   "cell_type": "code",
   "execution_count": null,
   "id": "0e358443",
   "metadata": {},
   "outputs": [],
   "source": []
  },
  {
   "cell_type": "code",
   "execution_count": null,
   "id": "dfeb0311",
   "metadata": {},
   "outputs": [],
   "source": []
  },
  {
   "cell_type": "code",
   "execution_count": null,
   "id": "9a19271e",
   "metadata": {},
   "outputs": [],
   "source": []
  },
  {
   "cell_type": "code",
   "execution_count": null,
   "id": "0cd66f7d",
   "metadata": {},
   "outputs": [],
   "source": []
  },
  {
   "cell_type": "code",
   "execution_count": null,
   "id": "33b5c430",
   "metadata": {},
   "outputs": [],
   "source": []
  },
  {
   "cell_type": "code",
   "execution_count": null,
   "id": "4e1aa99d",
   "metadata": {},
   "outputs": [],
   "source": []
  },
  {
   "cell_type": "code",
   "execution_count": null,
   "id": "4a75a22f",
   "metadata": {},
   "outputs": [],
   "source": []
  },
  {
   "cell_type": "code",
   "execution_count": 46,
   "id": "769c39f4",
   "metadata": {},
   "outputs": [
    {
     "name": "stdout",
     "output_type": "stream",
     "text": [
      "outside fn x:  4\n",
      "inside fn x :  4\n",
      "inside function x changes 45\n",
      "outside fn\n"
     ]
    }
   ],
   "source": [
    "x= 4\n",
    "print(\"outside fn x: \",x)\n",
    "\n",
    "def func(x):\n",
    "    print('inside fn x : ', x)\n",
    "    x = 45\n",
    "    print('inside function x changes', x)\n",
    "func(x)\n",
    "print('outside fn')\n"
   ]
  },
  {
   "cell_type": "code",
   "execution_count": null,
   "id": "4d92c747",
   "metadata": {},
   "outputs": [],
   "source": []
  },
  {
   "cell_type": "code",
   "execution_count": null,
   "id": "59172059",
   "metadata": {},
   "outputs": [],
   "source": []
  }
 ],
 "metadata": {
  "kernelspec": {
   "display_name": "Python 3 (ipykernel)",
   "language": "python",
   "name": "python3"
  },
  "language_info": {
   "codemirror_mode": {
    "name": "ipython",
    "version": 3
   },
   "file_extension": ".py",
   "mimetype": "text/x-python",
   "name": "python",
   "nbconvert_exporter": "python",
   "pygments_lexer": "ipython3",
   "version": "3.10.9"
  }
 },
 "nbformat": 4,
 "nbformat_minor": 5
}
