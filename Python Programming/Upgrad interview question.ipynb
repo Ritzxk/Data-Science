{
 "cells": [
  {
   "cell_type": "markdown",
   "metadata": {},
   "source": [
    "### 1. swapping of two number"
   ]
  },
  {
   "cell_type": "code",
   "execution_count": 4,
   "metadata": {},
   "outputs": [
    {
     "name": "stdout",
     "output_type": "stream",
     "text": [
      "value of x before swpping : 45\n",
      "value of y before swpping : 67\n",
      "x after swapping: 67\n",
      "y after swapping : 45\n"
     ]
    }
   ],
   "source": [
    "# swap two number given in a string seperated by comma\n",
    "inp_str = input()\n",
    "inp_list = inp_str.split(',')\n",
    "\n",
    "# assaigning number to x and y\n",
    "x = int(inp_list[0])\n",
    "y = int(inp_list[1])\n",
    "\n",
    "# printing values before swapping\n",
    "print(f'value of x before swpping : {x}')\n",
    "print(f'value of y before swpping : {y}')\n",
    "\n",
    "# swapping values of x and y\n",
    "temp = x\n",
    "x = y\n",
    "y = temp\n",
    "\n",
    "# printing values after swapping\n",
    "print(f'x after swapping: {x}')\n",
    "print(f'y after swapping : {y}')\n",
    "\n"
   ]
  },
  {
   "cell_type": "markdown",
   "metadata": {},
   "source": [
    "### 2. odd or even"
   ]
  },
  {
   "cell_type": "code",
   "execution_count": 15,
   "metadata": {},
   "outputs": [
    {
     "name": "stdout",
     "output_type": "stream",
     "text": [
      "odd\n"
     ]
    }
   ],
   "source": [
    "# checking whether a number is odd or even\n",
    "n = int(input())\n",
    "if n % 2 == 0:\n",
    "    print('even')\n",
    "else:\n",
    "    print('odd')"
   ]
  },
  {
   "cell_type": "markdown",
   "metadata": {},
   "source": [
    "### 3. alarm"
   ]
  },
  {
   "cell_type": "code",
   "execution_count": 21,
   "metadata": {},
   "outputs": [
    {
     "name": "stdout",
     "output_type": "stream",
     "text": [
      "7:00 am\n"
     ]
    }
   ],
   "source": [
    "# The input will be a list of two elements. The first element will be an integer from 1 to 7, and the second element will be a boolean value.\n",
    "import ast\n",
    "inp_str = input()\n",
    "inp_list = ast.literal_eval(inp_str)\n",
    "\n",
    "dow = inp_list[0]\n",
    "vacation = inp_list[1]\n",
    "\n",
    "def alarm(dow, vacation):\n",
    "    weekend = [6,7]\n",
    "    if vacation:\n",
    "        if dow in weekend:\n",
    "            return 'off'\n",
    "        else:\n",
    "            return '10:00 am'\n",
    "    else:\n",
    "        if dow not in weekend:\n",
    "            return '7:00 am'\n",
    "        else:\n",
    "            return '10:00 am'\n",
    "print(alarm(dow, vacation))\n"
   ]
  },
  {
   "cell_type": "markdown",
   "metadata": {},
   "source": [
    "### 4. factorial"
   ]
  },
  {
   "cell_type": "code",
   "execution_count": 1,
   "metadata": {},
   "outputs": [
    {
     "name": "stdout",
     "output_type": "stream",
     "text": [
      "number: 5\n",
      "120\n"
     ]
    }
   ],
   "source": [
    "n = int(input(\"number: \"))\n",
    "\n",
    "def factorial(n):\n",
    "    if n < 0:\n",
    "        return -1\n",
    "    if n <= 1:\n",
    "        return 1\n",
    "    else:\n",
    "        fact = 1\n",
    "        for i in range(2,n+1):\n",
    "            fact *= i\n",
    "        return fact\n",
    "\n",
    "print(factorial(n))"
   ]
  },
  {
   "cell_type": "markdown",
   "metadata": {},
   "source": [
    "### 5. reverse the number"
   ]
  },
  {
   "cell_type": "code",
   "execution_count": 2,
   "metadata": {},
   "outputs": [
    {
     "name": "stdout",
     "output_type": "stream",
     "text": [
      "number : 234\n",
      "432\n"
     ]
    }
   ],
   "source": [
    "num = int(input(\"number : \"))\n",
    "def reverse(num):\n",
    "    temp = num\n",
    "    rev = 0\n",
    "    while temp > 0:\n",
    "        ld = temp % 10\n",
    "        rev = rev * 10 + ld\n",
    "        temp = temp // 10\n",
    "    return rev\n",
    "\n",
    "print(reverse(num))"
   ]
  },
  {
   "cell_type": "markdown",
   "metadata": {},
   "source": [
    "### 6. Fibonacci"
   ]
  },
  {
   "cell_type": "code",
   "execution_count": 7,
   "metadata": {},
   "outputs": [
    {
     "data": {
      "text/plain": [
       "139583862445"
      ]
     },
     "execution_count": 7,
     "metadata": {},
     "output_type": "execute_result"
    }
   ],
   "source": [
    "def fib(n):\n",
    "    if n==0 or n ==1:\n",
    "        return n\n",
    "    else:\n",
    "        a=0\n",
    "        b=1\n",
    "        for i in range(2,n+1):\n",
    "            f = a+b\n",
    "            a = b\n",
    "            b = f\n",
    "        return f\n",
    "fib(55)"
   ]
  },
  {
   "cell_type": "markdown",
   "metadata": {},
   "source": [
    "### 7. min in list"
   ]
  },
  {
   "cell_type": "code",
   "execution_count": 24,
   "metadata": {},
   "outputs": [
    {
     "name": "stdout",
     "output_type": "stream",
     "text": [
      "-10\n"
     ]
    }
   ],
   "source": [
    "l = [1,-3,0,6,7,-10]\n",
    "def minList(l):\n",
    "    if len(l) == 0:\n",
    "        return -1\n",
    "    s = l[0]\n",
    "    for i in range(len(l)):\n",
    "        if l[i] < s:\n",
    "            s = l[i]\n",
    "    return s\n",
    "\n",
    "print(minList(l))"
   ]
  },
  {
   "cell_type": "markdown",
   "metadata": {},
   "source": [
    "### 8. clashing dates\n",
    "Input:\n",
    "\n",
    "The input will contain a list of lists where each sub-list has only two elements representing the start and end date of an event; the start date will be less than or equal to the end date. The next line of input will have a wedding date. \n",
    "\n",
    "\n",
    "\n",
    "Output:\n",
    "\n",
    "The output should have the number of events overlapping with the wedding date.\n",
    "\n",
    "\n",
    "\n",
    "----------------------------------------------------------------------\n",
    "\n",
    "Sample input:\n",
    "\n",
    "[ [29,31], [23,26], [24,25] ]\n",
    "\n",
    "24\n",
    "\n",
    "\n",
    "\n",
    "Sample output:\n",
    "\n",
    "2"
   ]
  },
  {
   "cell_type": "code",
   "execution_count": 8,
   "metadata": {},
   "outputs": [
    {
     "name": "stdout",
     "output_type": "stream",
     "text": [
      "[ [29,31], [23,26], [24,25] ]\n",
      "25\n",
      "clash:  2\n"
     ]
    }
   ],
   "source": [
    "import ast\n",
    "events = ast.literal_eval(input())\n",
    "wedding = int(input())\n",
    "\n",
    "clash = 0\n",
    "for event in events:\n",
    "    if event[0] <= wedding and event[1] >= wedding:\n",
    "        clash += 1\n",
    "print('clash: ',clash)"
   ]
  },
  {
   "cell_type": "markdown",
   "metadata": {},
   "source": [
    "### 9. Recruit New Members\n",
    "Description\n",
    "Suppose you are a manager at a big firm and now are looking for new members for your team. You sent out an advertisement and have received a few applications. You have a habit of scoring people on a scale of 100. You have given scores to all the members of your team and the new applications. The selection process will be very straightforward if the applicant improves the average of the team, then you hire the applicant to join the team or else reject the application. Remember, the order of processing applications is going to be important here.\n",
    "\n",
    "You may see this as an extension of the previous problem, which it is. You may use the code written in the previous question as a function to improve the code quality.\n",
    "\n",
    "----------------------------------------------------------------------\n",
    "\n",
    "Input:\n",
    "\n",
    "Two lists on two separate lines.\n",
    "\n",
    "The first line will have the list of scores of current team members\n",
    "\n",
    "The second line will have the list of scores of the applicants.\n",
    "\n",
    "\n",
    "Output:\n",
    "\n",
    "The list consisting of scores of the final team after hiring from the pool of applicants.\n",
    "\n",
    "\n",
    "----------------------------------------------------------------------\n",
    "\n",
    "Sample input:\n",
    "\n",
    "[23,45,34,76]\n",
    "\n",
    "[70,34,94]\n",
    "\n",
    "\n",
    "\n",
    "Sample output:\n",
    "\n",
    "[23, 45, 34, 76, 70, 94"
   ]
  },
  {
   "cell_type": "code",
   "execution_count": 9,
   "metadata": {},
   "outputs": [
    {
     "name": "stdout",
     "output_type": "stream",
     "text": [
      "[23,45,34,76]\n",
      "[70,34,94]\n",
      "[23, 45, 34, 76, 70, 94]\n"
     ]
    }
   ],
   "source": [
    "import ast\n",
    "team = ast.literal_eval(input())\n",
    "applicant = ast.literal_eval(input())\n",
    "\n",
    "def checkMean(team, a_score):\n",
    "    sum = 0\n",
    "    for score in team:\n",
    "        sum += score\n",
    "    avg = sum / len(team)\n",
    "    if avg < a_score:\n",
    "        return True\n",
    "    return False\n",
    "\n",
    "for score in applicant:\n",
    "    if checkMean(team, score):\n",
    "        team.append(score)\n",
    "print(team)"
   ]
  },
  {
   "cell_type": "code",
   "execution_count": 10,
   "metadata": {},
   "outputs": [],
   "source": [
    "l = [1,2,3,4,5,6]\n",
    "l1= l"
   ]
  },
  {
   "cell_type": "code",
   "execution_count": 11,
   "metadata": {},
   "outputs": [
    {
     "name": "stdout",
     "output_type": "stream",
     "text": [
      "l1 :  [1, 2, 3, 4, 5, 6]\n",
      "[1, 2, 3, 4, 5, 6, '3']\n"
     ]
    }
   ],
   "source": [
    "print('l1 : ' , l1)\n",
    "l.append('3')\n",
    "print(l)"
   ]
  },
  {
   "cell_type": "code",
   "execution_count": 12,
   "metadata": {},
   "outputs": [
    {
     "data": {
      "text/plain": [
       "[1, 2, 3, 4, 5, 6, '3']"
      ]
     },
     "execution_count": 12,
     "metadata": {},
     "output_type": "execute_result"
    }
   ],
   "source": [
    "l1"
   ]
  },
  {
   "cell_type": "code",
   "execution_count": 13,
   "metadata": {},
   "outputs": [],
   "source": [
    "l2 = [i for i in l]"
   ]
  },
  {
   "cell_type": "code",
   "execution_count": 14,
   "metadata": {},
   "outputs": [
    {
     "data": {
      "text/plain": [
       "[1, 2, 3, 4, 5, 6, '3']"
      ]
     },
     "execution_count": 14,
     "metadata": {},
     "output_type": "execute_result"
    }
   ],
   "source": [
    "l2"
   ]
  },
  {
   "cell_type": "code",
   "execution_count": 15,
   "metadata": {},
   "outputs": [
    {
     "name": "stdout",
     "output_type": "stream",
     "text": [
      "[1, 2, 3, 4, 5, 6, '3', 56]\n",
      "l1:  [1, 2, 3, 4, 5, 6, '3', 56]\n",
      "l2 :  [1, 2, 3, 4, 5, 6, '3']\n"
     ]
    }
   ],
   "source": [
    "l.append(56)\n",
    "print(l)\n",
    "print('l1: ', l1)\n",
    "print('l2 : ', l2)"
   ]
  },
  {
   "cell_type": "code",
   "execution_count": 16,
   "metadata": {},
   "outputs": [],
   "source": [
    "l3 = l2.copy()"
   ]
  },
  {
   "cell_type": "code",
   "execution_count": 17,
   "metadata": {},
   "outputs": [
    {
     "data": {
      "text/plain": [
       "[1, 2, 3, 4, 5, 6, '3']"
      ]
     },
     "execution_count": 17,
     "metadata": {},
     "output_type": "execute_result"
    }
   ],
   "source": [
    "l3"
   ]
  },
  {
   "cell_type": "code",
   "execution_count": 18,
   "metadata": {},
   "outputs": [],
   "source": [
    "l2.append(67)"
   ]
  },
  {
   "cell_type": "code",
   "execution_count": 19,
   "metadata": {},
   "outputs": [
    {
     "data": {
      "text/plain": [
       "[1, 2, 3, 4, 5, 6, '3', 67]"
      ]
     },
     "execution_count": 19,
     "metadata": {},
     "output_type": "execute_result"
    }
   ],
   "source": [
    "l2"
   ]
  },
  {
   "cell_type": "code",
   "execution_count": 20,
   "metadata": {},
   "outputs": [
    {
     "data": {
      "text/plain": [
       "[1, 2, 3, 4, 5, 6, '3']"
      ]
     },
     "execution_count": 20,
     "metadata": {},
     "output_type": "execute_result"
    }
   ],
   "source": [
    "l3"
   ]
  },
  {
   "cell_type": "code",
   "execution_count": null,
   "metadata": {},
   "outputs": [],
   "source": []
  }
 ],
 "metadata": {
  "kernelspec": {
   "display_name": "Python 3 (ipykernel)",
   "language": "python",
   "name": "python3"
  },
  "language_info": {
   "codemirror_mode": {
    "name": "ipython",
    "version": 3
   },
   "file_extension": ".py",
   "mimetype": "text/x-python",
   "name": "python",
   "nbconvert_exporter": "python",
   "pygments_lexer": "ipython3",
   "version": "3.10.9"
  }
 },
 "nbformat": 4,
 "nbformat_minor": 2
}
