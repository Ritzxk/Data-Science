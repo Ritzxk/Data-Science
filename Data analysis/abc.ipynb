{
 "cells": [
  {
   "cell_type": "code",
   "execution_count": 1,
   "metadata": {},
   "outputs": [],
   "source": [
    "import pandas as pd\n",
    "import numpy as np"
   ]
  },
  {
   "cell_type": "code",
   "execution_count": 10,
   "metadata": {},
   "outputs": [],
   "source": [
    "students = {'roll': [1,2,3,4,5,6],\n",
    "             'name' : ['ritesh', 'aman', 'jitesh', 'priya','rahul','Sid'],\n",
    "             'age' : [22,20,16,23,24,34],\n",
    "             'salary' : [10000,30000,40000,200000,45000,566776]\n",
    "            }\n",
    "\n",
    "df = pd.DataFrame(students)\n"
   ]
  },
  {
   "cell_type": "code",
   "execution_count": 11,
   "metadata": {},
   "outputs": [
    {
     "data": {
      "text/html": [
       "<div>\n",
       "<style scoped>\n",
       "    .dataframe tbody tr th:only-of-type {\n",
       "        vertical-align: middle;\n",
       "    }\n",
       "\n",
       "    .dataframe tbody tr th {\n",
       "        vertical-align: top;\n",
       "    }\n",
       "\n",
       "    .dataframe thead th {\n",
       "        text-align: right;\n",
       "    }\n",
       "</style>\n",
       "<table border=\"1\" class=\"dataframe\">\n",
       "  <thead>\n",
       "    <tr style=\"text-align: right;\">\n",
       "      <th></th>\n",
       "      <th>roll</th>\n",
       "      <th>name</th>\n",
       "      <th>age</th>\n",
       "      <th>salary</th>\n",
       "    </tr>\n",
       "  </thead>\n",
       "  <tbody>\n",
       "    <tr>\n",
       "      <th>0</th>\n",
       "      <td>1</td>\n",
       "      <td>ritesh</td>\n",
       "      <td>22</td>\n",
       "      <td>10000</td>\n",
       "    </tr>\n",
       "    <tr>\n",
       "      <th>1</th>\n",
       "      <td>2</td>\n",
       "      <td>aman</td>\n",
       "      <td>20</td>\n",
       "      <td>30000</td>\n",
       "    </tr>\n",
       "    <tr>\n",
       "      <th>2</th>\n",
       "      <td>3</td>\n",
       "      <td>jitesh</td>\n",
       "      <td>16</td>\n",
       "      <td>40000</td>\n",
       "    </tr>\n",
       "    <tr>\n",
       "      <th>3</th>\n",
       "      <td>4</td>\n",
       "      <td>priya</td>\n",
       "      <td>23</td>\n",
       "      <td>200000</td>\n",
       "    </tr>\n",
       "    <tr>\n",
       "      <th>4</th>\n",
       "      <td>5</td>\n",
       "      <td>rahul</td>\n",
       "      <td>24</td>\n",
       "      <td>45000</td>\n",
       "    </tr>\n",
       "    <tr>\n",
       "      <th>5</th>\n",
       "      <td>6</td>\n",
       "      <td>Sid</td>\n",
       "      <td>34</td>\n",
       "      <td>566776</td>\n",
       "    </tr>\n",
       "  </tbody>\n",
       "</table>\n",
       "</div>"
      ],
      "text/plain": [
       "   roll    name  age  salary\n",
       "0     1  ritesh   22   10000\n",
       "1     2    aman   20   30000\n",
       "2     3  jitesh   16   40000\n",
       "3     4   priya   23  200000\n",
       "4     5   rahul   24   45000\n",
       "5     6     Sid   34  566776"
      ]
     },
     "execution_count": 11,
     "metadata": {},
     "output_type": "execute_result"
    }
   ],
   "source": [
    "df"
   ]
  },
  {
   "cell_type": "code",
   "execution_count": 52,
   "metadata": {},
   "outputs": [],
   "source": [
    "encoded_df = pd.get_dummies(df, columns= ['name'], dtype=int)"
   ]
  },
  {
   "cell_type": "code",
   "execution_count": 53,
   "metadata": {},
   "outputs": [
    {
     "data": {
      "text/html": [
       "<div>\n",
       "<style scoped>\n",
       "    .dataframe tbody tr th:only-of-type {\n",
       "        vertical-align: middle;\n",
       "    }\n",
       "\n",
       "    .dataframe tbody tr th {\n",
       "        vertical-align: top;\n",
       "    }\n",
       "\n",
       "    .dataframe thead th {\n",
       "        text-align: right;\n",
       "    }\n",
       "</style>\n",
       "<table border=\"1\" class=\"dataframe\">\n",
       "  <thead>\n",
       "    <tr style=\"text-align: right;\">\n",
       "      <th></th>\n",
       "      <th>roll</th>\n",
       "      <th>age</th>\n",
       "      <th>salary</th>\n",
       "      <th>name_Sid</th>\n",
       "      <th>name_aman</th>\n",
       "      <th>name_jitesh</th>\n",
       "      <th>name_priya</th>\n",
       "      <th>name_rahul</th>\n",
       "      <th>name_ritesh</th>\n",
       "    </tr>\n",
       "  </thead>\n",
       "  <tbody>\n",
       "    <tr>\n",
       "      <th>0</th>\n",
       "      <td>1</td>\n",
       "      <td>22</td>\n",
       "      <td>10000</td>\n",
       "      <td>0</td>\n",
       "      <td>0</td>\n",
       "      <td>0</td>\n",
       "      <td>0</td>\n",
       "      <td>0</td>\n",
       "      <td>1</td>\n",
       "    </tr>\n",
       "    <tr>\n",
       "      <th>1</th>\n",
       "      <td>2</td>\n",
       "      <td>20</td>\n",
       "      <td>30000</td>\n",
       "      <td>0</td>\n",
       "      <td>1</td>\n",
       "      <td>0</td>\n",
       "      <td>0</td>\n",
       "      <td>0</td>\n",
       "      <td>0</td>\n",
       "    </tr>\n",
       "    <tr>\n",
       "      <th>2</th>\n",
       "      <td>3</td>\n",
       "      <td>16</td>\n",
       "      <td>40000</td>\n",
       "      <td>0</td>\n",
       "      <td>0</td>\n",
       "      <td>1</td>\n",
       "      <td>0</td>\n",
       "      <td>0</td>\n",
       "      <td>0</td>\n",
       "    </tr>\n",
       "    <tr>\n",
       "      <th>3</th>\n",
       "      <td>4</td>\n",
       "      <td>23</td>\n",
       "      <td>200000</td>\n",
       "      <td>0</td>\n",
       "      <td>0</td>\n",
       "      <td>0</td>\n",
       "      <td>1</td>\n",
       "      <td>0</td>\n",
       "      <td>0</td>\n",
       "    </tr>\n",
       "    <tr>\n",
       "      <th>4</th>\n",
       "      <td>5</td>\n",
       "      <td>24</td>\n",
       "      <td>45000</td>\n",
       "      <td>0</td>\n",
       "      <td>0</td>\n",
       "      <td>0</td>\n",
       "      <td>0</td>\n",
       "      <td>1</td>\n",
       "      <td>0</td>\n",
       "    </tr>\n",
       "    <tr>\n",
       "      <th>5</th>\n",
       "      <td>6</td>\n",
       "      <td>34</td>\n",
       "      <td>566776</td>\n",
       "      <td>1</td>\n",
       "      <td>0</td>\n",
       "      <td>0</td>\n",
       "      <td>0</td>\n",
       "      <td>0</td>\n",
       "      <td>0</td>\n",
       "    </tr>\n",
       "  </tbody>\n",
       "</table>\n",
       "</div>"
      ],
      "text/plain": [
       "   roll  age  salary  name_Sid  name_aman  name_jitesh  name_priya   \n",
       "0     1   22   10000         0          0            0           0  \\\n",
       "1     2   20   30000         0          1            0           0   \n",
       "2     3   16   40000         0          0            1           0   \n",
       "3     4   23  200000         0          0            0           1   \n",
       "4     5   24   45000         0          0            0           0   \n",
       "5     6   34  566776         1          0            0           0   \n",
       "\n",
       "   name_rahul  name_ritesh  \n",
       "0           0            1  \n",
       "1           0            0  \n",
       "2           0            0  \n",
       "3           0            0  \n",
       "4           1            0  \n",
       "5           0            0  "
      ]
     },
     "execution_count": 53,
     "metadata": {},
     "output_type": "execute_result"
    }
   ],
   "source": [
    "encoded_df"
   ]
  },
  {
   "cell_type": "code",
   "execution_count": 54,
   "metadata": {},
   "outputs": [],
   "source": [
    "data = {'Name': ['John', 'Alice', 'Bob', 'Alice', 'John'],\n",
    "        'Age': [30, 35, 25, 35, 30],\n",
    "        'City': ['New York', 'London', 'Paris', 'London', 'New York']}\n",
    "df = pd.DataFrame(data)"
   ]
  },
  {
   "cell_type": "code",
   "execution_count": 59,
   "metadata": {},
   "outputs": [
    {
     "data": {
      "text/html": [
       "<div>\n",
       "<style scoped>\n",
       "    .dataframe tbody tr th:only-of-type {\n",
       "        vertical-align: middle;\n",
       "    }\n",
       "\n",
       "    .dataframe tbody tr th {\n",
       "        vertical-align: top;\n",
       "    }\n",
       "\n",
       "    .dataframe thead th {\n",
       "        text-align: right;\n",
       "    }\n",
       "</style>\n",
       "<table border=\"1\" class=\"dataframe\">\n",
       "  <thead>\n",
       "    <tr style=\"text-align: right;\">\n",
       "      <th></th>\n",
       "      <th>Name</th>\n",
       "      <th>Age</th>\n",
       "      <th>City</th>\n",
       "    </tr>\n",
       "  </thead>\n",
       "  <tbody>\n",
       "    <tr>\n",
       "      <th>0</th>\n",
       "      <td>John</td>\n",
       "      <td>30</td>\n",
       "      <td>New York</td>\n",
       "    </tr>\n",
       "    <tr>\n",
       "      <th>1</th>\n",
       "      <td>Alice</td>\n",
       "      <td>35</td>\n",
       "      <td>London</td>\n",
       "    </tr>\n",
       "    <tr>\n",
       "      <th>2</th>\n",
       "      <td>Bob</td>\n",
       "      <td>25</td>\n",
       "      <td>Paris</td>\n",
       "    </tr>\n",
       "    <tr>\n",
       "      <th>3</th>\n",
       "      <td>Alice</td>\n",
       "      <td>35</td>\n",
       "      <td>London</td>\n",
       "    </tr>\n",
       "    <tr>\n",
       "      <th>4</th>\n",
       "      <td>John</td>\n",
       "      <td>30</td>\n",
       "      <td>New York</td>\n",
       "    </tr>\n",
       "  </tbody>\n",
       "</table>\n",
       "</div>"
      ],
      "text/plain": [
       "    Name  Age      City\n",
       "0   John   30  New York\n",
       "1  Alice   35    London\n",
       "2    Bob   25     Paris\n",
       "3  Alice   35    London\n",
       "4   John   30  New York"
      ]
     },
     "execution_count": 59,
     "metadata": {},
     "output_type": "execute_result"
    }
   ],
   "source": [
    "df"
   ]
  },
  {
   "cell_type": "code",
   "execution_count": 57,
   "metadata": {},
   "outputs": [],
   "source": [
    "df1 = df.drop_duplicates()"
   ]
  },
  {
   "cell_type": "code",
   "execution_count": 58,
   "metadata": {},
   "outputs": [
    {
     "data": {
      "text/html": [
       "<div>\n",
       "<style scoped>\n",
       "    .dataframe tbody tr th:only-of-type {\n",
       "        vertical-align: middle;\n",
       "    }\n",
       "\n",
       "    .dataframe tbody tr th {\n",
       "        vertical-align: top;\n",
       "    }\n",
       "\n",
       "    .dataframe thead th {\n",
       "        text-align: right;\n",
       "    }\n",
       "</style>\n",
       "<table border=\"1\" class=\"dataframe\">\n",
       "  <thead>\n",
       "    <tr style=\"text-align: right;\">\n",
       "      <th></th>\n",
       "      <th>Name</th>\n",
       "      <th>Age</th>\n",
       "      <th>City</th>\n",
       "    </tr>\n",
       "  </thead>\n",
       "  <tbody>\n",
       "    <tr>\n",
       "      <th>0</th>\n",
       "      <td>John</td>\n",
       "      <td>30</td>\n",
       "      <td>New York</td>\n",
       "    </tr>\n",
       "    <tr>\n",
       "      <th>1</th>\n",
       "      <td>Alice</td>\n",
       "      <td>35</td>\n",
       "      <td>London</td>\n",
       "    </tr>\n",
       "    <tr>\n",
       "      <th>2</th>\n",
       "      <td>Bob</td>\n",
       "      <td>25</td>\n",
       "      <td>Paris</td>\n",
       "    </tr>\n",
       "  </tbody>\n",
       "</table>\n",
       "</div>"
      ],
      "text/plain": [
       "    Name  Age      City\n",
       "0   John   30  New York\n",
       "1  Alice   35    London\n",
       "2    Bob   25     Paris"
      ]
     },
     "execution_count": 58,
     "metadata": {},
     "output_type": "execute_result"
    }
   ],
   "source": [
    "df1"
   ]
  },
  {
   "cell_type": "code",
   "execution_count": 60,
   "metadata": {},
   "outputs": [],
   "source": [
    "df2 = df.duplicated()"
   ]
  },
  {
   "cell_type": "code",
   "execution_count": 67,
   "metadata": {},
   "outputs": [],
   "source": [
    "duplicate = df.duplicated()\n",
    "df3 = df[~duplicate]"
   ]
  },
  {
   "cell_type": "code",
   "execution_count": 68,
   "metadata": {},
   "outputs": [
    {
     "data": {
      "text/html": [
       "<div>\n",
       "<style scoped>\n",
       "    .dataframe tbody tr th:only-of-type {\n",
       "        vertical-align: middle;\n",
       "    }\n",
       "\n",
       "    .dataframe tbody tr th {\n",
       "        vertical-align: top;\n",
       "    }\n",
       "\n",
       "    .dataframe thead th {\n",
       "        text-align: right;\n",
       "    }\n",
       "</style>\n",
       "<table border=\"1\" class=\"dataframe\">\n",
       "  <thead>\n",
       "    <tr style=\"text-align: right;\">\n",
       "      <th></th>\n",
       "      <th>Name</th>\n",
       "      <th>Age</th>\n",
       "      <th>City</th>\n",
       "    </tr>\n",
       "  </thead>\n",
       "  <tbody>\n",
       "    <tr>\n",
       "      <th>0</th>\n",
       "      <td>John</td>\n",
       "      <td>30</td>\n",
       "      <td>New York</td>\n",
       "    </tr>\n",
       "    <tr>\n",
       "      <th>1</th>\n",
       "      <td>Alice</td>\n",
       "      <td>35</td>\n",
       "      <td>London</td>\n",
       "    </tr>\n",
       "    <tr>\n",
       "      <th>2</th>\n",
       "      <td>Bob</td>\n",
       "      <td>25</td>\n",
       "      <td>Paris</td>\n",
       "    </tr>\n",
       "  </tbody>\n",
       "</table>\n",
       "</div>"
      ],
      "text/plain": [
       "    Name  Age      City\n",
       "0   John   30  New York\n",
       "1  Alice   35    London\n",
       "2    Bob   25     Paris"
      ]
     },
     "execution_count": 68,
     "metadata": {},
     "output_type": "execute_result"
    }
   ],
   "source": [
    "df3"
   ]
  },
  {
   "cell_type": "code",
   "execution_count": 70,
   "metadata": {},
   "outputs": [],
   "source": [
    "l = [1,2,3,4,5,6,3,5]\n",
    "l2=[]\n",
    "for i in l:\n",
    "     if i not in l2:\n",
    "          l2.append(i)\n",
    "\n"
   ]
  },
  {
   "cell_type": "code",
   "execution_count": 71,
   "metadata": {},
   "outputs": [
    {
     "data": {
      "text/plain": [
       "[1, 2, 3, 4, 5, 6]"
      ]
     },
     "execution_count": 71,
     "metadata": {},
     "output_type": "execute_result"
    }
   ],
   "source": [
    "l2"
   ]
  },
  {
   "cell_type": "code",
   "execution_count": 74,
   "metadata": {},
   "outputs": [
    {
     "name": "stdout",
     "output_type": "stream",
     "text": [
      "yes\n"
     ]
    }
   ],
   "source": [
    "if 4 in l:\n",
    "    print(\"yes\")\n",
    "else:\n",
    "    print(\"no\")"
   ]
  },
  {
   "cell_type": "code",
   "execution_count": 3,
   "metadata": {},
   "outputs": [
    {
     "name": "stdout",
     "output_type": "stream",
     "text": [
      "Collecting scipy\n",
      "  Downloading scipy-1.10.1-cp311-cp311-win_amd64.whl (42.2 MB)\n",
      "                                              0.0/42.2 MB ? eta -:--:--\n",
      "                                              0.0/42.2 MB 1.4 MB/s eta 0:00:31\n",
      "                                              0.1/42.2 MB 1.1 MB/s eta 0:00:39\n",
      "                                              0.2/42.2 MB 1.1 MB/s eta 0:00:39\n",
      "                                              0.3/42.2 MB 1.4 MB/s eta 0:00:30\n",
      "                                              0.4/42.2 MB 1.6 MB/s eta 0:00:27\n",
      "                                              0.5/42.2 MB 1.8 MB/s eta 0:00:23\n",
      "                                              0.5/42.2 MB 1.7 MB/s eta 0:00:26\n",
      "                                              0.5/42.2 MB 1.7 MB/s eta 0:00:26\n",
      "                                              0.5/42.2 MB 1.3 MB/s eta 0:00:34\n",
      "                                              0.7/42.2 MB 1.5 MB/s eta 0:00:28\n",
      "                                              0.7/42.2 MB 1.4 MB/s eta 0:00:30\n",
      "                                              0.7/42.2 MB 1.4 MB/s eta 0:00:30\n",
      "                                              0.7/42.2 MB 1.4 MB/s eta 0:00:30\n",
      "                                              0.8/42.2 MB 1.3 MB/s eta 0:00:32\n",
      "                                              0.9/42.2 MB 1.3 MB/s eta 0:00:32\n",
      "                                              0.9/42.2 MB 1.3 MB/s eta 0:00:33\n",
      "     -                                        1.1/42.2 MB 1.3 MB/s eta 0:00:32\n",
      "     -                                        1.1/42.2 MB 1.3 MB/s eta 0:00:32\n",
      "     -                                        1.2/42.2 MB 1.4 MB/s eta 0:00:29\n",
      "     -                                        1.3/42.2 MB 1.4 MB/s eta 0:00:30\n",
      "     -                                        1.4/42.2 MB 1.5 MB/s eta 0:00:28\n",
      "     -                                        1.6/42.2 MB 1.5 MB/s eta 0:00:27\n",
      "     -                                        1.7/42.2 MB 1.6 MB/s eta 0:00:26\n",
      "     -                                        1.7/42.2 MB 1.6 MB/s eta 0:00:26\n",
      "     -                                        1.7/42.2 MB 1.6 MB/s eta 0:00:26\n",
      "     -                                        1.9/42.2 MB 1.6 MB/s eta 0:00:26\n",
      "     -                                        1.9/42.2 MB 1.5 MB/s eta 0:00:27\n",
      "     -                                        1.9/42.2 MB 1.5 MB/s eta 0:00:27\n",
      "     -                                        2.0/42.2 MB 1.5 MB/s eta 0:00:27\n",
      "     --                                       2.3/42.2 MB 1.6 MB/s eta 0:00:25\n",
      "     --                                       2.4/42.2 MB 1.7 MB/s eta 0:00:24\n",
      "     --                                       2.6/42.2 MB 1.7 MB/s eta 0:00:24\n",
      "     --                                       2.7/42.2 MB 1.7 MB/s eta 0:00:24\n",
      "     --                                       2.8/42.2 MB 1.7 MB/s eta 0:00:23\n",
      "     --                                       2.9/42.2 MB 1.7 MB/s eta 0:00:23\n",
      "     --                                       3.0/42.2 MB 1.7 MB/s eta 0:00:23\n",
      "     --                                       3.0/42.2 MB 1.7 MB/s eta 0:00:23\n",
      "     --                                       3.1/42.2 MB 1.7 MB/s eta 0:00:23\n",
      "     ---                                      3.2/42.2 MB 1.7 MB/s eta 0:00:23\n",
      "     ---                                      3.2/42.2 MB 1.7 MB/s eta 0:00:23\n",
      "     ---                                      3.4/42.2 MB 1.7 MB/s eta 0:00:23\n",
      "     ---                                      3.5/42.2 MB 1.8 MB/s eta 0:00:22\n",
      "     ---                                      3.6/42.2 MB 1.8 MB/s eta 0:00:22\n",
      "     ---                                      3.8/42.2 MB 1.8 MB/s eta 0:00:22\n",
      "     ---                                      3.9/42.2 MB 1.8 MB/s eta 0:00:22\n",
      "     ---                                      4.0/42.2 MB 1.8 MB/s eta 0:00:21\n",
      "     ---                                      4.2/42.2 MB 1.9 MB/s eta 0:00:21\n",
      "     ----                                     4.3/42.2 MB 1.9 MB/s eta 0:00:20\n",
      "     ----                                     4.5/42.2 MB 1.9 MB/s eta 0:00:20\n",
      "     ----                                     4.6/42.2 MB 1.9 MB/s eta 0:00:20\n",
      "     ----                                     4.6/42.2 MB 1.9 MB/s eta 0:00:20\n",
      "     ----                                     4.6/42.2 MB 1.9 MB/s eta 0:00:20\n",
      "     ----                                     4.6/42.2 MB 1.9 MB/s eta 0:00:20\n",
      "     ----                                     4.6/42.2 MB 1.9 MB/s eta 0:00:20\n",
      "     ----                                     4.9/42.2 MB 1.9 MB/s eta 0:00:20\n",
      "     ----                                     4.9/42.2 MB 1.9 MB/s eta 0:00:20\n",
      "     ----                                     5.1/42.2 MB 1.9 MB/s eta 0:00:20\n",
      "     ----                                     5.3/42.2 MB 1.9 MB/s eta 0:00:20\n",
      "     -----                                    5.4/42.2 MB 1.9 MB/s eta 0:00:19\n",
      "     -----                                    5.6/42.2 MB 2.0 MB/s eta 0:00:19\n",
      "     -----                                    5.7/42.2 MB 2.0 MB/s eta 0:00:19\n",
      "     -----                                    5.9/42.2 MB 2.0 MB/s eta 0:00:19\n",
      "     -----                                    6.0/42.2 MB 2.0 MB/s eta 0:00:18\n",
      "     -----                                    6.2/42.2 MB 2.1 MB/s eta 0:00:18\n",
      "     ------                                   6.4/42.2 MB 2.1 MB/s eta 0:00:18\n",
      "     ------                                   6.6/42.2 MB 2.1 MB/s eta 0:00:17\n",
      "     ------                                   6.7/42.2 MB 2.1 MB/s eta 0:00:17\n",
      "     ------                                   6.8/42.2 MB 2.1 MB/s eta 0:00:17\n",
      "     ------                                   6.8/42.2 MB 2.1 MB/s eta 0:00:17\n",
      "     ------                                   7.2/42.2 MB 2.2 MB/s eta 0:00:16\n",
      "     ------                                   7.3/42.2 MB 2.2 MB/s eta 0:00:16\n",
      "     -------                                  7.5/42.2 MB 2.2 MB/s eta 0:00:16\n",
      "     -------                                  7.7/42.2 MB 2.2 MB/s eta 0:00:16\n",
      "     -------                                  7.8/42.2 MB 2.2 MB/s eta 0:00:16\n",
      "     -------                                  8.0/42.2 MB 2.3 MB/s eta 0:00:16\n",
      "     -------                                  8.2/42.2 MB 2.3 MB/s eta 0:00:15\n",
      "     -------                                  8.2/42.2 MB 2.3 MB/s eta 0:00:15\n",
      "     -------                                  8.2/42.2 MB 2.3 MB/s eta 0:00:15\n",
      "     -------                                  8.3/42.2 MB 2.3 MB/s eta 0:00:16\n",
      "     -------                                  8.3/42.2 MB 2.3 MB/s eta 0:00:16\n",
      "     --------                                 8.8/42.2 MB 2.3 MB/s eta 0:00:15\n",
      "     --------                                 8.9/42.2 MB 2.3 MB/s eta 0:00:15\n",
      "     --------                                 9.0/42.2 MB 2.3 MB/s eta 0:00:15\n",
      "     --------                                 9.1/42.2 MB 2.3 MB/s eta 0:00:15\n",
      "     --------                                 9.2/42.2 MB 2.3 MB/s eta 0:00:15\n",
      "     --------                                 9.3/42.2 MB 2.3 MB/s eta 0:00:15\n",
      "     --------                                 9.4/42.2 MB 2.3 MB/s eta 0:00:15\n",
      "     --------                                 9.5/42.2 MB 2.3 MB/s eta 0:00:15\n",
      "     ---------                                9.6/42.2 MB 2.3 MB/s eta 0:00:15\n",
      "     ---------                                9.8/42.2 MB 2.3 MB/s eta 0:00:14\n",
      "     ---------                                9.9/42.2 MB 2.3 MB/s eta 0:00:14\n",
      "     ---------                                10.0/42.2 MB 2.3 MB/s eta 0:00:14\n",
      "     ---------                                10.1/42.2 MB 2.3 MB/s eta 0:00:14\n",
      "     ---------                                10.2/42.2 MB 2.3 MB/s eta 0:00:14\n",
      "     ---------                                10.3/42.2 MB 2.3 MB/s eta 0:00:14\n",
      "     ---------                                10.4/42.2 MB 2.4 MB/s eta 0:00:14\n",
      "     ----------                               10.6/42.2 MB 2.4 MB/s eta 0:00:14\n",
      "     ----------                               10.7/42.2 MB 2.4 MB/s eta 0:00:14\n",
      "     ----------                               10.8/42.2 MB 2.4 MB/s eta 0:00:13\n",
      "     ----------                               10.9/42.2 MB 2.5 MB/s eta 0:00:13\n",
      "     ----------                               11.1/42.2 MB 2.5 MB/s eta 0:00:13\n",
      "     ----------                               11.2/42.2 MB 2.6 MB/s eta 0:00:13\n",
      "     ----------                               11.4/42.2 MB 2.6 MB/s eta 0:00:12\n",
      "     ----------                               11.5/42.2 MB 2.6 MB/s eta 0:00:12\n",
      "     ----------                               11.6/42.2 MB 2.6 MB/s eta 0:00:12\n",
      "     -----------                              11.7/42.2 MB 2.6 MB/s eta 0:00:12\n",
      "     -----------                              11.7/42.2 MB 2.6 MB/s eta 0:00:12\n",
      "     -----------                              11.7/42.2 MB 2.6 MB/s eta 0:00:12\n",
      "     -----------                              11.7/42.2 MB 2.5 MB/s eta 0:00:13\n",
      "     -----------                              12.4/42.2 MB 2.7 MB/s eta 0:00:12\n",
      "     -----------                              12.4/42.2 MB 2.7 MB/s eta 0:00:12\n",
      "     -----------                              12.6/42.2 MB 2.7 MB/s eta 0:00:11\n",
      "     ------------                             12.8/42.2 MB 2.7 MB/s eta 0:00:11\n",
      "     ------------                             13.0/42.2 MB 2.7 MB/s eta 0:00:11\n",
      "     ------------                             13.1/42.2 MB 2.8 MB/s eta 0:00:11\n",
      "     ------------                             13.3/42.2 MB 2.8 MB/s eta 0:00:11\n",
      "     ------------                             13.5/42.2 MB 2.9 MB/s eta 0:00:10\n",
      "     ------------                             13.7/42.2 MB 2.9 MB/s eta 0:00:10\n",
      "     -------------                            13.9/42.2 MB 2.9 MB/s eta 0:00:10\n",
      "     -------------                            14.0/42.2 MB 2.9 MB/s eta 0:00:10\n",
      "     -------------                            14.2/42.2 MB 2.9 MB/s eta 0:00:10\n",
      "     -------------                            14.4/42.2 MB 2.9 MB/s eta 0:00:10\n",
      "     -------------                            14.6/42.2 MB 2.9 MB/s eta 0:00:10\n",
      "     -------------                            14.7/42.2 MB 2.9 MB/s eta 0:00:10\n",
      "     -------------                            14.7/42.2 MB 2.9 MB/s eta 0:00:10\n",
      "     --------------                           14.8/42.2 MB 3.1 MB/s eta 0:00:09\n",
      "     --------------                           14.9/42.2 MB 3.0 MB/s eta 0:00:10\n",
      "     --------------                           14.9/42.2 MB 3.0 MB/s eta 0:00:10\n",
      "     --------------                           15.0/42.2 MB 3.0 MB/s eta 0:00:10\n",
      "     --------------                           15.0/42.2 MB 2.9 MB/s eta 0:00:10\n",
      "     --------------                           15.2/42.2 MB 2.9 MB/s eta 0:00:10\n",
      "     --------------                           15.2/42.2 MB 2.9 MB/s eta 0:00:10\n",
      "     --------------                           15.2/42.2 MB 2.9 MB/s eta 0:00:10\n",
      "     --------------                           15.2/42.2 MB 2.9 MB/s eta 0:00:10\n",
      "     --------------                           15.4/42.2 MB 2.8 MB/s eta 0:00:10\n",
      "     --------------                           15.5/42.2 MB 2.8 MB/s eta 0:00:10\n",
      "     --------------                           15.6/42.2 MB 2.8 MB/s eta 0:00:10\n",
      "     --------------                           15.7/42.2 MB 2.8 MB/s eta 0:00:10\n",
      "     --------------                           15.7/42.2 MB 2.8 MB/s eta 0:00:10\n",
      "     --------------                           15.8/42.2 MB 2.8 MB/s eta 0:00:10\n",
      "     ---------------                          15.9/42.2 MB 2.8 MB/s eta 0:00:10\n",
      "     ---------------                          15.9/42.2 MB 2.7 MB/s eta 0:00:10\n",
      "     ---------------                          16.1/42.2 MB 2.7 MB/s eta 0:00:10\n",
      "     ---------------                          16.2/42.2 MB 2.7 MB/s eta 0:00:10\n",
      "     ---------------                          16.3/42.2 MB 2.7 MB/s eta 0:00:10\n",
      "     ---------------                          16.4/42.2 MB 2.7 MB/s eta 0:00:10\n",
      "     ---------------                          16.5/42.2 MB 2.7 MB/s eta 0:00:10\n",
      "     ---------------                          16.6/42.2 MB 2.7 MB/s eta 0:00:10\n",
      "     ---------------                          16.8/42.2 MB 2.7 MB/s eta 0:00:10\n",
      "     ----------------                         16.9/42.2 MB 2.6 MB/s eta 0:00:10\n",
      "     ----------------                         17.1/42.2 MB 2.7 MB/s eta 0:00:10\n",
      "     ----------------                         17.3/42.2 MB 2.7 MB/s eta 0:00:10\n",
      "     ----------------                         17.4/42.2 MB 2.6 MB/s eta 0:00:10\n",
      "     ----------------                         17.5/42.2 MB 2.6 MB/s eta 0:00:10\n",
      "     ----------------                         17.7/42.2 MB 2.6 MB/s eta 0:00:10\n",
      "     ----------------                         18.0/42.2 MB 2.7 MB/s eta 0:00:10\n",
      "     -----------------                        18.0/42.2 MB 2.7 MB/s eta 0:00:10\n",
      "     -----------------                        18.0/42.2 MB 2.7 MB/s eta 0:00:10\n",
      "     -----------------                        18.0/42.2 MB 2.7 MB/s eta 0:00:10\n",
      "     -----------------                        18.6/42.2 MB 2.7 MB/s eta 0:00:09\n",
      "     -----------------                        18.6/42.2 MB 2.7 MB/s eta 0:00:09\n",
      "     -----------------                        18.6/42.2 MB 2.7 MB/s eta 0:00:09\n",
      "     -----------------                        18.9/42.2 MB 2.7 MB/s eta 0:00:09\n",
      "     ------------------                       19.1/42.2 MB 2.7 MB/s eta 0:00:09\n",
      "     ------------------                       19.3/42.2 MB 2.7 MB/s eta 0:00:09\n",
      "     ------------------                       19.3/42.2 MB 2.7 MB/s eta 0:00:09\n",
      "     ------------------                       19.7/42.2 MB 2.8 MB/s eta 0:00:09\n",
      "     ------------------                       19.8/42.2 MB 2.8 MB/s eta 0:00:09\n",
      "     ------------------                       20.0/42.2 MB 2.8 MB/s eta 0:00:08\n",
      "     -------------------                      20.2/42.2 MB 2.8 MB/s eta 0:00:08\n",
      "     -------------------                      20.3/42.2 MB 2.8 MB/s eta 0:00:08\n",
      "     -------------------                      20.4/42.2 MB 2.8 MB/s eta 0:00:08\n",
      "     -------------------                      20.5/42.2 MB 2.8 MB/s eta 0:00:08\n",
      "     -------------------                      20.6/42.2 MB 2.8 MB/s eta 0:00:08\n",
      "     -------------------                      20.7/42.2 MB 2.8 MB/s eta 0:00:08\n",
      "     -------------------                      20.8/42.2 MB 2.8 MB/s eta 0:00:08\n",
      "     -------------------                      20.9/42.2 MB 2.8 MB/s eta 0:00:08\n",
      "     -------------------                      21.0/42.2 MB 2.8 MB/s eta 0:00:08\n",
      "     --------------------                     21.2/42.2 MB 2.8 MB/s eta 0:00:08\n",
      "     --------------------                     21.4/42.2 MB 2.8 MB/s eta 0:00:08\n",
      "     --------------------                     21.5/42.2 MB 2.8 MB/s eta 0:00:08\n",
      "     --------------------                     21.7/42.2 MB 2.8 MB/s eta 0:00:08\n",
      "     --------------------                     21.8/42.2 MB 2.8 MB/s eta 0:00:08\n",
      "     --------------------                     22.0/42.2 MB 2.9 MB/s eta 0:00:07\n",
      "     --------------------                     22.1/42.2 MB 2.9 MB/s eta 0:00:07\n",
      "     --------------------                     22.2/42.2 MB 2.9 MB/s eta 0:00:07\n",
      "     ---------------------                    22.2/42.2 MB 2.8 MB/s eta 0:00:08\n",
      "     ---------------------                    22.3/42.2 MB 2.9 MB/s eta 0:00:07\n",
      "     ---------------------                    22.3/42.2 MB 2.9 MB/s eta 0:00:07\n",
      "     ---------------------                    22.3/42.2 MB 2.8 MB/s eta 0:00:08\n",
      "     ---------------------                    22.3/42.2 MB 2.8 MB/s eta 0:00:08\n",
      "     ---------------------                    22.6/42.2 MB 2.7 MB/s eta 0:00:08\n",
      "     ---------------------                    23.2/42.2 MB 2.8 MB/s eta 0:00:07\n",
      "     ----------------------                   23.4/42.2 MB 2.8 MB/s eta 0:00:07\n",
      "     ----------------------                   23.6/42.2 MB 2.8 MB/s eta 0:00:07\n",
      "     ----------------------                   23.9/42.2 MB 2.8 MB/s eta 0:00:07\n",
      "     ----------------------                   24.1/42.2 MB 2.8 MB/s eta 0:00:07\n",
      "     ----------------------                   24.1/42.2 MB 2.8 MB/s eta 0:00:07\n",
      "     ----------------------                   24.1/42.2 MB 2.8 MB/s eta 0:00:07\n",
      "     -----------------------                  24.6/42.2 MB 2.8 MB/s eta 0:00:07\n",
      "     -----------------------                  24.8/42.2 MB 2.8 MB/s eta 0:00:07\n",
      "     -----------------------                  24.8/42.2 MB 2.8 MB/s eta 0:00:07\n",
      "     -----------------------                  24.8/42.2 MB 2.8 MB/s eta 0:00:07\n",
      "     -----------------------                  24.8/42.2 MB 2.8 MB/s eta 0:00:07\n",
      "     -----------------------                  24.8/42.2 MB 2.8 MB/s eta 0:00:07\n",
      "     -----------------------                  24.8/42.2 MB 2.8 MB/s eta 0:00:07\n",
      "     -----------------------                  24.8/42.2 MB 2.8 MB/s eta 0:00:07\n",
      "     -----------------------                  24.8/42.2 MB 2.8 MB/s eta 0:00:07\n",
      "     -----------------------                  24.8/42.2 MB 2.5 MB/s eta 0:00:07\n",
      "     ------------------------                 25.9/42.2 MB 3.1 MB/s eta 0:00:06\n",
      "     ------------------------                 26.0/42.2 MB 3.0 MB/s eta 0:00:06\n",
      "     ------------------------                 26.1/42.2 MB 3.1 MB/s eta 0:00:06\n",
      "     ------------------------                 26.2/42.2 MB 3.1 MB/s eta 0:00:06\n",
      "     ------------------------                 26.3/42.2 MB 3.1 MB/s eta 0:00:06\n",
      "     ------------------------                 26.3/42.2 MB 3.1 MB/s eta 0:00:06\n",
      "     ------------------------                 26.3/42.2 MB 3.1 MB/s eta 0:00:06\n",
      "     ------------------------                 26.3/42.2 MB 3.1 MB/s eta 0:00:06\n",
      "     -------------------------                26.8/42.2 MB 3.1 MB/s eta 0:00:05\n",
      "     -------------------------                27.0/42.2 MB 3.1 MB/s eta 0:00:05\n",
      "     -------------------------                27.2/42.2 MB 3.1 MB/s eta 0:00:05\n",
      "     -------------------------                27.2/42.2 MB 3.1 MB/s eta 0:00:05\n",
      "     -------------------------                27.2/42.2 MB 3.1 MB/s eta 0:00:05\n",
      "     --------------------------               27.6/42.2 MB 3.1 MB/s eta 0:00:05\n",
      "     --------------------------               27.8/42.2 MB 3.1 MB/s eta 0:00:05\n",
      "     --------------------------               28.0/42.2 MB 3.1 MB/s eta 0:00:05\n",
      "     --------------------------               28.2/42.2 MB 3.1 MB/s eta 0:00:05\n",
      "     --------------------------               28.4/42.2 MB 3.2 MB/s eta 0:00:05\n",
      "     ---------------------------              28.6/42.2 MB 3.2 MB/s eta 0:00:05\n",
      "     ---------------------------              28.7/42.2 MB 3.2 MB/s eta 0:00:05\n",
      "     ---------------------------              28.8/42.2 MB 3.2 MB/s eta 0:00:05\n",
      "     ---------------------------              29.1/42.2 MB 3.2 MB/s eta 0:00:05\n",
      "     ---------------------------              29.2/42.2 MB 3.2 MB/s eta 0:00:05\n",
      "     ---------------------------              29.3/42.2 MB 3.2 MB/s eta 0:00:05\n",
      "     ---------------------------              29.5/42.2 MB 3.2 MB/s eta 0:00:05\n",
      "     ----------------------------             29.7/42.2 MB 3.2 MB/s eta 0:00:04\n",
      "     ----------------------------             29.9/42.2 MB 3.2 MB/s eta 0:00:04\n",
      "     ----------------------------             30.0/42.2 MB 3.2 MB/s eta 0:00:04\n",
      "     ----------------------------             30.2/42.2 MB 3.1 MB/s eta 0:00:04\n",
      "     ----------------------------             30.3/42.2 MB 3.1 MB/s eta 0:00:04\n",
      "     ----------------------------             30.5/42.2 MB 3.2 MB/s eta 0:00:04\n",
      "     -----------------------------            30.7/42.2 MB 3.2 MB/s eta 0:00:04\n",
      "     -----------------------------            30.8/42.2 MB 3.2 MB/s eta 0:00:04\n",
      "     -----------------------------            30.8/42.2 MB 3.2 MB/s eta 0:00:04\n",
      "     -----------------------------            30.8/42.2 MB 3.2 MB/s eta 0:00:04\n",
      "     -----------------------------            30.8/42.2 MB 3.2 MB/s eta 0:00:04\n",
      "     -----------------------------            31.1/42.2 MB 3.1 MB/s eta 0:00:04\n",
      "     -----------------------------            31.3/42.2 MB 3.2 MB/s eta 0:00:04\n",
      "     -----------------------------            31.5/42.2 MB 3.2 MB/s eta 0:00:04\n",
      "     -----------------------------            31.6/42.2 MB 3.2 MB/s eta 0:00:04\n",
      "     ------------------------------           31.8/42.2 MB 3.2 MB/s eta 0:00:04\n",
      "     ------------------------------           31.9/42.2 MB 3.2 MB/s eta 0:00:04\n",
      "     ------------------------------           32.0/42.2 MB 3.2 MB/s eta 0:00:04\n",
      "     ------------------------------           32.1/42.2 MB 3.2 MB/s eta 0:00:04\n",
      "     ------------------------------           32.1/42.2 MB 3.2 MB/s eta 0:00:04\n",
      "     ------------------------------           32.3/42.2 MB 3.2 MB/s eta 0:00:04\n",
      "     ------------------------------           32.4/42.2 MB 3.1 MB/s eta 0:00:04\n",
      "     ------------------------------           32.4/42.2 MB 3.1 MB/s eta 0:00:04\n",
      "     ------------------------------           32.5/42.2 MB 3.1 MB/s eta 0:00:04\n",
      "     ------------------------------           32.5/42.2 MB 3.0 MB/s eta 0:00:04\n",
      "     ------------------------------           32.6/42.2 MB 3.2 MB/s eta 0:00:04\n",
      "     ------------------------------           32.6/42.2 MB 3.2 MB/s eta 0:00:04\n",
      "     ------------------------------           32.6/42.2 MB 3.2 MB/s eta 0:00:04\n",
      "     ------------------------------           32.6/42.2 MB 3.2 MB/s eta 0:00:04\n",
      "     -------------------------------          32.9/42.2 MB 3.0 MB/s eta 0:00:04\n",
      "     -------------------------------          33.0/42.2 MB 3.0 MB/s eta 0:00:04\n",
      "     -------------------------------          33.2/42.2 MB 3.0 MB/s eta 0:00:04\n",
      "     -------------------------------          33.3/42.2 MB 2.9 MB/s eta 0:00:04\n",
      "     -------------------------------          33.3/42.2 MB 2.9 MB/s eta 0:00:04\n",
      "     -------------------------------          33.3/42.2 MB 2.9 MB/s eta 0:00:04\n",
      "     -------------------------------          33.3/42.2 MB 2.9 MB/s eta 0:00:04\n",
      "     -------------------------------          33.3/42.2 MB 2.9 MB/s eta 0:00:04\n",
      "     -------------------------------          33.3/42.2 MB 2.9 MB/s eta 0:00:04\n",
      "     -------------------------------          33.3/42.2 MB 2.9 MB/s eta 0:00:04\n",
      "     --------------------------------         34.0/42.2 MB 2.8 MB/s eta 0:00:03\n",
      "     --------------------------------         34.0/42.2 MB 2.8 MB/s eta 0:00:03\n",
      "     --------------------------------         34.1/42.2 MB 2.7 MB/s eta 0:00:03\n",
      "     --------------------------------         34.2/42.2 MB 2.7 MB/s eta 0:00:03\n",
      "     --------------------------------         34.3/42.2 MB 2.7 MB/s eta 0:00:03\n",
      "     --------------------------------         34.4/42.2 MB 2.8 MB/s eta 0:00:03\n",
      "     --------------------------------         34.6/42.2 MB 2.7 MB/s eta 0:00:03\n",
      "     --------------------------------         34.8/42.2 MB 2.7 MB/s eta 0:00:03\n",
      "     ---------------------------------        34.9/42.2 MB 2.7 MB/s eta 0:00:03\n",
      "     ---------------------------------        35.1/42.2 MB 2.9 MB/s eta 0:00:03\n",
      "     ---------------------------------        35.2/42.2 MB 2.9 MB/s eta 0:00:03\n",
      "     ---------------------------------        35.3/42.2 MB 2.9 MB/s eta 0:00:03\n",
      "     ---------------------------------        35.4/42.2 MB 2.8 MB/s eta 0:00:03\n",
      "     ---------------------------------        35.5/42.2 MB 2.8 MB/s eta 0:00:03\n",
      "     ---------------------------------        35.7/42.2 MB 2.8 MB/s eta 0:00:03\n",
      "     ---------------------------------        35.8/42.2 MB 2.7 MB/s eta 0:00:03\n",
      "     ----------------------------------       35.9/42.2 MB 2.7 MB/s eta 0:00:03\n",
      "     ----------------------------------       36.0/42.2 MB 2.7 MB/s eta 0:00:03\n",
      "     ----------------------------------       36.0/42.2 MB 2.6 MB/s eta 0:00:03\n",
      "     ----------------------------------       36.2/42.2 MB 2.7 MB/s eta 0:00:03\n",
      "     ----------------------------------       36.3/42.2 MB 2.7 MB/s eta 0:00:03\n",
      "     ----------------------------------       36.3/42.2 MB 2.7 MB/s eta 0:00:03\n",
      "     ----------------------------------       36.5/42.2 MB 2.6 MB/s eta 0:00:03\n",
      "     ----------------------------------       36.5/42.2 MB 2.6 MB/s eta 0:00:03\n",
      "     ----------------------------------       36.5/42.2 MB 2.6 MB/s eta 0:00:03\n",
      "     ----------------------------------       36.5/42.2 MB 2.6 MB/s eta 0:00:03\n",
      "     ----------------------------------       36.5/42.2 MB 2.6 MB/s eta 0:00:03\n",
      "     ----------------------------------       36.5/42.2 MB 2.6 MB/s eta 0:00:03\n",
      "     ----------------------------------       36.9/42.2 MB 2.6 MB/s eta 0:00:03\n",
      "     -----------------------------------      37.1/42.2 MB 2.6 MB/s eta 0:00:02\n",
      "     -----------------------------------      37.2/42.2 MB 2.6 MB/s eta 0:00:02\n",
      "     -----------------------------------      37.2/42.2 MB 2.6 MB/s eta 0:00:02\n",
      "     -----------------------------------      37.2/42.2 MB 2.5 MB/s eta 0:00:02\n",
      "     -----------------------------------      37.3/42.2 MB 2.5 MB/s eta 0:00:02\n",
      "     -----------------------------------      37.3/42.2 MB 2.5 MB/s eta 0:00:02\n",
      "     -----------------------------------      37.4/42.2 MB 2.5 MB/s eta 0:00:02\n",
      "     -----------------------------------      37.4/42.2 MB 2.4 MB/s eta 0:00:02\n",
      "     -----------------------------------      37.5/42.2 MB 2.5 MB/s eta 0:00:02\n",
      "     -----------------------------------      37.6/42.2 MB 2.5 MB/s eta 0:00:02\n",
      "     -----------------------------------      37.7/42.2 MB 2.4 MB/s eta 0:00:02\n",
      "     -----------------------------------      37.8/42.2 MB 2.4 MB/s eta 0:00:02\n",
      "     -----------------------------------      37.9/42.2 MB 2.4 MB/s eta 0:00:02\n",
      "     -----------------------------------      38.0/42.2 MB 2.4 MB/s eta 0:00:02\n",
      "     ------------------------------------     38.1/42.2 MB 2.4 MB/s eta 0:00:02\n",
      "     ------------------------------------     38.1/42.2 MB 2.4 MB/s eta 0:00:02\n",
      "     ------------------------------------     38.1/42.2 MB 2.4 MB/s eta 0:00:02\n",
      "     ------------------------------------     38.1/42.2 MB 2.3 MB/s eta 0:00:02\n",
      "     ------------------------------------     38.1/42.2 MB 2.3 MB/s eta 0:00:02\n",
      "     ------------------------------------     38.8/42.2 MB 2.3 MB/s eta 0:00:02\n",
      "     ------------------------------------     39.0/42.2 MB 2.3 MB/s eta 0:00:02\n",
      "     -------------------------------------    39.1/42.2 MB 2.3 MB/s eta 0:00:02\n",
      "     -------------------------------------    39.1/42.2 MB 2.3 MB/s eta 0:00:02\n",
      "     -------------------------------------    39.1/42.2 MB 2.3 MB/s eta 0:00:02\n",
      "     -------------------------------------    39.1/42.2 MB 2.2 MB/s eta 0:00:02\n",
      "     -------------------------------------    39.4/42.2 MB 2.3 MB/s eta 0:00:02\n",
      "     -------------------------------------    39.6/42.2 MB 2.3 MB/s eta 0:00:02\n",
      "     -------------------------------------    39.7/42.2 MB 2.3 MB/s eta 0:00:02\n",
      "     -------------------------------------    39.8/42.2 MB 2.2 MB/s eta 0:00:02\n",
      "     -------------------------------------    39.9/42.2 MB 2.2 MB/s eta 0:00:02\n",
      "     -------------------------------------    39.9/42.2 MB 2.2 MB/s eta 0:00:02\n",
      "     -------------------------------------    40.0/42.2 MB 2.2 MB/s eta 0:00:02\n",
      "     --------------------------------------   40.1/42.2 MB 2.2 MB/s eta 0:00:01\n",
      "     --------------------------------------   40.2/42.2 MB 2.2 MB/s eta 0:00:01\n",
      "     --------------------------------------   40.3/42.2 MB 2.2 MB/s eta 0:00:01\n",
      "     --------------------------------------   40.4/42.2 MB 2.2 MB/s eta 0:00:01\n",
      "     --------------------------------------   40.5/42.2 MB 2.2 MB/s eta 0:00:01\n",
      "     --------------------------------------   40.7/42.2 MB 2.2 MB/s eta 0:00:01\n",
      "     --------------------------------------   40.7/42.2 MB 2.2 MB/s eta 0:00:01\n",
      "     --------------------------------------   40.8/42.2 MB 2.1 MB/s eta 0:00:01\n",
      "     --------------------------------------   40.9/42.2 MB 2.1 MB/s eta 0:00:01\n",
      "     --------------------------------------   41.0/42.2 MB 2.1 MB/s eta 0:00:01\n",
      "     --------------------------------------   41.0/42.2 MB 2.1 MB/s eta 0:00:01\n",
      "     --------------------------------------   41.1/42.2 MB 2.2 MB/s eta 0:00:01\n",
      "     ---------------------------------------  41.3/42.2 MB 2.2 MB/s eta 0:00:01\n",
      "     ---------------------------------------  41.4/42.2 MB 2.1 MB/s eta 0:00:01\n",
      "     ---------------------------------------  41.5/42.2 MB 2.1 MB/s eta 0:00:01\n",
      "     ---------------------------------------  41.7/42.2 MB 2.1 MB/s eta 0:00:01\n",
      "     ---------------------------------------  41.8/42.2 MB 2.1 MB/s eta 0:00:01\n",
      "     ---------------------------------------  41.9/42.2 MB 2.1 MB/s eta 0:00:01\n",
      "     ---------------------------------------  41.9/42.2 MB 2.1 MB/s eta 0:00:01\n",
      "     ---------------------------------------  41.9/42.2 MB 2.1 MB/s eta 0:00:01\n",
      "     ---------------------------------------  42.1/42.2 MB 2.1 MB/s eta 0:00:01\n",
      "     ---------------------------------------  42.1/42.2 MB 2.1 MB/s eta 0:00:01\n",
      "     ---------------------------------------  42.2/42.2 MB 2.1 MB/s eta 0:00:01\n",
      "     ---------------------------------------  42.2/42.2 MB 2.1 MB/s eta 0:00:01\n",
      "     ---------------------------------------  42.2/42.2 MB 2.1 MB/s eta 0:00:01\n",
      "     ---------------------------------------  42.2/42.2 MB 2.1 MB/s eta 0:00:01\n",
      "     ---------------------------------------- 42.2/42.2 MB 2.0 MB/s eta 0:00:00\n",
      "Requirement already satisfied: numpy<1.27.0,>=1.19.5 in c:\\users\\ritesh\\appdata\\local\\programs\\python\\python311\\lib\\site-packages (from scipy) (1.24.3)\n",
      "Installing collected packages: scipy\n",
      "Successfully installed scipy-1.10.1\n"
     ]
    },
    {
     "name": "stderr",
     "output_type": "stream",
     "text": [
      "\n",
      "[notice] A new release of pip is available: 23.1.1 -> 23.1.2\n",
      "[notice] To update, run: python.exe -m pip install --upgrade pip\n"
     ]
    }
   ],
   "source": [
    "! pip install scipy"
   ]
  },
  {
   "cell_type": "code",
   "execution_count": 4,
   "metadata": {},
   "outputs": [],
   "source": [
    "import pandas as pd\n",
    "\n",
    "from scipy.stats import chi2_contingency\n",
    "\n",
    "# Create a DataFrame\n",
    "data = {\n",
    "    'Category': ['A', 'A', 'B', 'B', 'A', 'B'],\n",
    "    'Result': ['Pass', 'Fail', 'Pass', 'Pass', 'Fail', 'Fail']\n",
    "}\n",
    "\n",
    "df = pd.DataFrame(data)\n",
    "\n",
    "# Create a contingency table using crosstab\n",
    "contingency_table = pd.crosstab(df['Category'], df['Result'])\n",
    "\n"
   ]
  },
  {
   "cell_type": "code",
   "execution_count": 5,
   "metadata": {},
   "outputs": [
    {
     "data": {
      "text/html": [
       "<div>\n",
       "<style scoped>\n",
       "    .dataframe tbody tr th:only-of-type {\n",
       "        vertical-align: middle;\n",
       "    }\n",
       "\n",
       "    .dataframe tbody tr th {\n",
       "        vertical-align: top;\n",
       "    }\n",
       "\n",
       "    .dataframe thead th {\n",
       "        text-align: right;\n",
       "    }\n",
       "</style>\n",
       "<table border=\"1\" class=\"dataframe\">\n",
       "  <thead>\n",
       "    <tr style=\"text-align: right;\">\n",
       "      <th>Result</th>\n",
       "      <th>Fail</th>\n",
       "      <th>Pass</th>\n",
       "    </tr>\n",
       "    <tr>\n",
       "      <th>Category</th>\n",
       "      <th></th>\n",
       "      <th></th>\n",
       "    </tr>\n",
       "  </thead>\n",
       "  <tbody>\n",
       "    <tr>\n",
       "      <th>A</th>\n",
       "      <td>2</td>\n",
       "      <td>1</td>\n",
       "    </tr>\n",
       "    <tr>\n",
       "      <th>B</th>\n",
       "      <td>1</td>\n",
       "      <td>2</td>\n",
       "    </tr>\n",
       "  </tbody>\n",
       "</table>\n",
       "</div>"
      ],
      "text/plain": [
       "Result    Fail  Pass\n",
       "Category            \n",
       "A            2     1\n",
       "B            1     2"
      ]
     },
     "execution_count": 5,
     "metadata": {},
     "output_type": "execute_result"
    }
   ],
   "source": [
    "contingency_table"
   ]
  },
  {
   "cell_type": "code",
   "execution_count": 6,
   "metadata": {},
   "outputs": [
    {
     "name": "stdout",
     "output_type": "stream",
     "text": [
      "Chi-square statistic: 0.0\n",
      "P-value: 1.0\n",
      "Degrees of freedom: 1\n"
     ]
    }
   ],
   "source": [
    "# Perform chi-square test\n",
    "chi2, p, dof, expected = chi2_contingency(contingency_table)\n",
    "\n",
    "# Print the test statistics and p-value\n",
    "print('Chi-square statistic:', chi2)\n",
    "print('P-value:', p)\n",
    "print('Degrees of freedom:', dof)"
   ]
  },
  {
   "cell_type": "code",
   "execution_count": 7,
   "metadata": {},
   "outputs": [
    {
     "name": "stdout",
     "output_type": "stream",
     "text": [
      "Chi-square statistic: 0.0\n",
      "P-value: 1.0\n",
      "Degrees of freedom: 1\n"
     ]
    }
   ],
   "source": [
    "import pandas as pd\n",
    "from scipy.stats import chi2_contingency\n",
    "\n",
    "# Create a DataFrame\n",
    "data = {\n",
    "    'Category': ['A', 'A', 'B', 'B', 'A', 'B'],\n",
    "    'Result': ['Pass', 'Fail', 'Pass', 'Pass', 'Fail', 'Fail']\n",
    "}\n",
    "\n",
    "df = pd.DataFrame(data)\n",
    "\n",
    "# Create a contingency table using crosstab\n",
    "contingency_table = pd.crosstab(df['Category'], df['Result'])\n",
    "\n",
    "# Perform chi-square test\n",
    "chi2, p, dof, expected = chi2_contingency(contingency_table)\n",
    "\n",
    "# Print the test statistics and p-value\n",
    "print('Chi-square statistic:', chi2)\n",
    "print('P-value:', p)\n",
    "print('Degrees of freedom:', dof)\n"
   ]
  },
  {
   "cell_type": "code",
   "execution_count": 8,
   "metadata": {},
   "outputs": [
    {
     "name": "stdout",
     "output_type": "stream",
     "text": [
      "Chi-square statistic: 8.206349206349206\n",
      "P-value: 0.01652014715610229\n",
      "Degrees of freedom: 2\n"
     ]
    }
   ],
   "source": [
    "import numpy as np\n",
    "from scipy.stats import chi2_contingency\n",
    "\n",
    "# Create a contingency table\n",
    "observed = np.array([[30, 10, 20],\n",
    "                     [15, 20, 15]])\n",
    "\n",
    "# Perform chi-square test\n",
    "chi2, p, dof, expected = chi2_contingency(observed)\n",
    "\n",
    "# Print the test statistics and p-value\n",
    "print('Chi-square statistic:', chi2)\n",
    "print('P-value:', p)\n",
    "print('Degrees of freedom:', dof)\n"
   ]
  },
  {
   "cell_type": "code",
   "execution_count": 9,
   "metadata": {},
   "outputs": [
    {
     "name": "stdout",
     "output_type": "stream",
     "text": [
      "Chi-square statistic: 2.2361111111111107\n",
      "P-value: 0.32691484476680416\n",
      "Degrees of freedom: 2\n"
     ]
    }
   ],
   "source": [
    "import pandas as pd\n",
    "from scipy.stats import chi2_contingency\n",
    "\n",
    "# Create a DataFrame with the survey data\n",
    "data = {\n",
    "    'Gender': ['Male', 'Female', 'Female', 'Male', 'Male', 'Female', 'Male'],\n",
    "    'Voting Preference': ['Candidate A', 'Candidate B', 'Undecided', 'Candidate A', 'Candidate B', 'Candidate B', 'Undecided']\n",
    "}\n",
    "\n",
    "df = pd.DataFrame(data)\n",
    "\n",
    "# Create a contingency table using crosstab\n",
    "contingency_table = pd.crosstab(df['Gender'], df['Voting Preference'])\n",
    "\n",
    "# Perform chi-square test\n",
    "chi2, p, dof, expected = chi2_contingency(contingency_table)\n",
    "\n",
    "# Print the test statistics and p-value\n",
    "print('Chi-square statistic:', chi2)\n",
    "print('P-value:', p)\n",
    "print('Degrees of freedom:', dof)\n"
   ]
  },
  {
   "cell_type": "code",
   "execution_count": 10,
   "metadata": {},
   "outputs": [
    {
     "data": {
      "text/html": [
       "<div>\n",
       "<style scoped>\n",
       "    .dataframe tbody tr th:only-of-type {\n",
       "        vertical-align: middle;\n",
       "    }\n",
       "\n",
       "    .dataframe tbody tr th {\n",
       "        vertical-align: top;\n",
       "    }\n",
       "\n",
       "    .dataframe thead th {\n",
       "        text-align: right;\n",
       "    }\n",
       "</style>\n",
       "<table border=\"1\" class=\"dataframe\">\n",
       "  <thead>\n",
       "    <tr style=\"text-align: right;\">\n",
       "      <th>Voting Preference</th>\n",
       "      <th>Candidate A</th>\n",
       "      <th>Candidate B</th>\n",
       "      <th>Undecided</th>\n",
       "    </tr>\n",
       "    <tr>\n",
       "      <th>Gender</th>\n",
       "      <th></th>\n",
       "      <th></th>\n",
       "      <th></th>\n",
       "    </tr>\n",
       "  </thead>\n",
       "  <tbody>\n",
       "    <tr>\n",
       "      <th>Female</th>\n",
       "      <td>0</td>\n",
       "      <td>2</td>\n",
       "      <td>1</td>\n",
       "    </tr>\n",
       "    <tr>\n",
       "      <th>Male</th>\n",
       "      <td>2</td>\n",
       "      <td>1</td>\n",
       "      <td>1</td>\n",
       "    </tr>\n",
       "  </tbody>\n",
       "</table>\n",
       "</div>"
      ],
      "text/plain": [
       "Voting Preference  Candidate A  Candidate B  Undecided\n",
       "Gender                                                \n",
       "Female                       0            2          1\n",
       "Male                         2            1          1"
      ]
     },
     "execution_count": 10,
     "metadata": {},
     "output_type": "execute_result"
    }
   ],
   "source": [
    "contingency_table"
   ]
  },
  {
   "cell_type": "code",
   "execution_count": 11,
   "metadata": {},
   "outputs": [
    {
     "name": "stdout",
     "output_type": "stream",
     "text": [
      "   Values\n",
      "0    10.0\n",
      "1    20.0\n",
      "2    30.0\n",
      "3   200.0\n",
      "4    40.0\n",
      "5    50.0\n",
      "6    60.0\n",
      "7   232.5\n"
     ]
    }
   ],
   "source": [
    "import pandas as pd\n",
    "import numpy as np\n",
    "\n",
    "# Create a sample dataset with outliers\n",
    "data = pd.DataFrame({'Values': [10, 20, 30, 200, 40, 50, 60, 250]})\n",
    "\n",
    "# Set the upper threshold for capping (e.g., the 95th percentile)\n",
    "cap_threshold = data['Values'].quantile(0.95)\n",
    "\n",
    "# Cap the outliers at the threshold\n",
    "data['Values'] = np.where(data['Values'] > cap_threshold, cap_threshold, data['Values'])\n",
    "print(data)\n"
   ]
  },
  {
   "attachments": {},
   "cell_type": "markdown",
   "metadata": {},
   "source": [
    "## binning"
   ]
  },
  {
   "cell_type": "code",
   "execution_count": 12,
   "metadata": {},
   "outputs": [
    {
     "name": "stdout",
     "output_type": "stream",
     "text": [
      "   Values  Binned\n",
      "0      10     Low\n",
      "1      20     Low\n",
      "2      30     Low\n",
      "3     200    High\n",
      "4      40     Low\n",
      "5      50  Medium\n",
      "6      60  Medium\n",
      "7     250    High\n"
     ]
    }
   ],
   "source": [
    "import pandas as pd\n",
    "import numpy as np\n",
    "\n",
    "# Create a sample dataset with outliers\n",
    "data = pd.DataFrame({'Values': [10, 20, 30, 200, 40, 50, 60, 250]})\n",
    "\n",
    "# Set the bin edges\n",
    "bins = [0, 50, 100, np.inf]\n",
    "\n",
    "# Assign outliers to a new bin/category\n",
    "data['Binned'] = pd.cut(data['Values'], bins=bins, labels=['Low', 'Medium', 'High'], right=False)\n",
    "print(data)\n"
   ]
  },
  {
   "attachments": {},
   "cell_type": "markdown",
   "metadata": {},
   "source": [
    "# imputation"
   ]
  },
  {
   "cell_type": "code",
   "execution_count": 13,
   "metadata": {},
   "outputs": [
    {
     "name": "stdout",
     "output_type": "stream",
     "text": [
      "   Values\n",
      "0    10.0\n",
      "1    20.0\n",
      "2    30.0\n",
      "3    45.0\n",
      "4    40.0\n",
      "5    50.0\n",
      "6    60.0\n",
      "7    45.0\n"
     ]
    }
   ],
   "source": [
    "import pandas as pd\n",
    "import numpy as np\n",
    "\n",
    "# Create a sample dataset with outliers\n",
    "data = pd.DataFrame({'Values': [10, 20, 30, 200, 40, 50, 60, 250]})\n",
    "\n",
    "# Calculate the mean and median\n",
    "mean = data['Values'].mean()\n",
    "median = data['Values'].median()\n",
    "\n",
    "# Replace outliers with the median value\n",
    "data['Values'] = np.where(data['Values'] > 3 * median, median, data['Values'])\n",
    "print(data)\n"
   ]
  },
  {
   "attachments": {},
   "cell_type": "markdown",
   "metadata": {},
   "source": [
    "## removing"
   ]
  },
  {
   "cell_type": "code",
   "execution_count": 14,
   "metadata": {},
   "outputs": [
    {
     "name": "stdout",
     "output_type": "stream",
     "text": [
      "   Values\n",
      "0      10\n",
      "1      20\n",
      "2      30\n",
      "3     200\n",
      "4      40\n",
      "5      50\n",
      "6      60\n",
      "7     250\n"
     ]
    }
   ],
   "source": [
    "import pandas as pd\n",
    "\n",
    "# Create a sample dataset with outliers\n",
    "data = pd.DataFrame({'Values': [10, 20, 30, 200, 40, 50, 60, 250]})\n",
    "\n",
    "# Remove outliers based on a threshold (e.g., values greater than 3 times the standard deviation)\n",
    "threshold = 3 * data['Values'].std()\n",
    "data = data[data['Values'] <= threshold]\n",
    "print(data)\n"
   ]
  },
  {
   "cell_type": "code",
   "execution_count": 15,
   "metadata": {},
   "outputs": [
    {
     "data": {
      "text/plain": [
       "90.35643703846293"
      ]
     },
     "execution_count": 15,
     "metadata": {},
     "output_type": "execute_result"
    }
   ],
   "source": [
    "data['Values'].std()"
   ]
  },
  {
   "cell_type": "code",
   "execution_count": 16,
   "metadata": {},
   "outputs": [
    {
     "data": {
      "text/plain": [
       "82.5"
      ]
     },
     "execution_count": 16,
     "metadata": {},
     "output_type": "execute_result"
    }
   ],
   "source": [
    "data['Values'].mean()\n"
   ]
  },
  {
   "cell_type": "code",
   "execution_count": 22,
   "metadata": {},
   "outputs": [
    {
     "data": {
      "image/png": "[encoded data removed]",
      "text/plain": [
       "<Figure size 640x480 with 1 Axes>"
      ]
     },
     "metadata": {},
     "output_type": "display_data"
    }
   ],
   "source": [
    "import seaborn as sns\n",
    "import matplotlib.pyplot as plt\n",
    "# Sample data\n",
    "data = [1, 2, 3, 4, 5]\n",
    "\n",
    "# Plotting box plot\n",
    "sns.boxplot(data=data)\n",
    "\n",
    "# Adding a title\n",
    "plt.title('Box Plot')\n",
    "\n",
    "# Display the plot\n",
    "plt.show()\n"
   ]
  },
  {
   "cell_type": "code",
   "execution_count": 23,
   "metadata": {},
   "outputs": [
    {
     "data": {
      "image/png": "[encoded data removed]",
      "text/plain": [
       "<Figure size 640x480 with 1 Axes>"
      ]
     },
     "metadata": {},
     "output_type": "display_data"
    }
   ],
   "source": [
    "import matplotlib.pyplot as plt\n",
    "\n",
    "# Sample data\n",
    "x = [1, 2, 3, 4, 5]\n",
    "y = [2, 4, 6, 8, 10]\n",
    "\n",
    "# Plotting scatter plot\n",
    "plt.scatter(x, y)\n",
    "\n",
    "# Adding labels and title\n",
    "plt.xlabel('X')\n",
    "plt.ylabel('Y')\n",
    "plt.title('Scatter Plot')\n",
    "\n",
    "# Display the plot\n",
    "plt.show()\n"
   ]
  },
  {
   "cell_type": "code",
   "execution_count": 28,
   "metadata": {},
   "outputs": [
    {
     "name": "stdout",
     "output_type": "stream",
     "text": [
      "Skewness: 0.4214511343845125\n"
     ]
    },
    {
     "data": {
      "image/png": "[encoded data removed]",
      "text/plain": [
       "<Figure size 640x480 with 1 Axes>"
      ]
     },
     "metadata": {},
     "output_type": "display_data"
    }
   ],
   "source": [
    "import matplotlib.pyplot as plt\n",
    "import scipy.stats as stats\n",
    "\n",
    "# Sample data\n",
    "data = [10, 20, 10, 40, 50, 60, 30, 80]\n",
    "\n",
    "# Creating a box plot\n",
    "plt.boxplot(data)\n",
    "\n",
    "# Adding labels and title\n",
    "plt.xlabel('Data')\n",
    "plt.ylabel('Values')\n",
    "plt.title('Box Plot')\n",
    "\n",
    "# Calculate skewness\n",
    "skewness = stats.skew(data)\n",
    "\n",
    "# Display skewness\n",
    "print(\"Skewness:\", skewness)\n",
    "\n",
    "# Display the plot\n",
    "plt.show()\n"
   ]
  },
  {
   "cell_type": "code",
   "execution_count": null,
   "metadata": {},
   "outputs": [],
   "source": [
    "# palindrome\n",
    "s = \"aba\"\n",
    "def isPal(s):\n",
    "    pal = s[:-1]\n",
    "    if pal == s:\n",
    "        return True\n",
    "    return False"
   ]
  },
  {
   "cell_type": "code",
   "execution_count": null,
   "metadata": {},
   "outputs": [],
   "source": [
    "s =\"aba\"\n",
    "print(s[::-1])"
   ]
  },
  {
   "cell_type": "code",
   "execution_count": null,
   "metadata": {},
   "outputs": [],
   "source": []
  }
 ],
 "metadata": {
  "kernelspec": {
   "display_name": "Python 3",
   "language": "python",
   "name": "python3"
  },
  "language_info": {
   "codemirror_mode": {
    "name": "ipython",
    "version": 3
   },
   "file_extension": ".py",
   "mimetype": "text/x-python",
   "name": "python",
   "nbconvert_exporter": "python",
   "pygments_lexer": "ipython3",
   "version": "3.11.3"
  },
  "orig_nbformat": 4
 },
 "nbformat": 4,
 "nbformat_minor": 2
}
